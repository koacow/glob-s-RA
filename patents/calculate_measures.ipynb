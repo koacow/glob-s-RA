{
 "cells": [
  {
   "cell_type": "markdown",
   "id": "b2cb89b2",
   "metadata": {},
   "source": [
    "# Calculating Innovation Measures\n",
    "\n",
    "This notebook calculates the atypicality score and technological leap score for each patent in the `final_fwdcitations.csv` dataset. \n",
    "\n",
    "## Results note\n",
    "\n",
    "There are **763,040** patents without any any cited CPC subclasses or groups."
   ]
  },
  {
   "cell_type": "markdown",
   "id": "cb7a2131",
   "metadata": {},
   "source": [
    "## Atypicality Score\n",
    "\n",
    "This notebook calculates the Atypicality Score for all patents in the `final_fwdcitations.csv` dataset.\n",
    "\n",
    "### Steps\n",
    "1. Find the set of cpc subclasses for each patent using the `g_cpc_current.csv` dataset.\n",
    "\n",
    "2. Filter the set of cpc subclasses to only include those that occur in the `final_fwdcitations.csv` dataset.\n",
    "\n",
    "3. For each patent, generate all 2-way combinations of cpc subclasses. Any patent that cites fewer than 2 cpc subclasses is considered to have no 2-way combinations.\n",
    "\n",
    "4. Count the number of occurences of each 2-way combination across all patents.\n",
    "\n",
    "5. Calculate the Atypicality Score for each cpc-subclass-pair:\n",
    "$$\n",
    "\\text{CPC Subclass Pair Atypicality Score} = -ln\\left(\\frac{n_{pair}}{N}\\right) \\\\\n",
    "\\text{ where } n_{pair} \\text{ is the number of occurrences of the pair and } \\\\\n",
    "N \\text{ is the sum of all occurrences of pairs.}\n",
    "$$\n",
    "\n",
    "6. Calculate the Atypicality Score for each patent:\n",
    "$$\n",
    "\\text{Patent Atypicality Score} = \\begin{cases}\n",
    "\\frac{\\sum_{pair} \\text{CPC Subclass Pair Atypicality Score}}{\\text{Number of CPC Subclass Pairs cited by Patent}} & \\text{if Number of CPC Subclass Pairs} > 0 \\\\\n",
    "NaN & \\text{otherwise}\n",
    "\\end{cases}\n",
    "$$\n",
    "\n"
   ]
  },
  {
   "cell_type": "code",
   "execution_count": 2,
   "id": "3aad3c56",
   "metadata": {},
   "outputs": [],
   "source": [
    "import pandas as pd"
   ]
  },
  {
   "cell_type": "code",
   "execution_count": 3,
   "id": "936ae25c",
   "metadata": {},
   "outputs": [
    {
     "data": {
      "text/html": [
       "<div>\n",
       "<style scoped>\n",
       "    .dataframe tbody tr th:only-of-type {\n",
       "        vertical-align: middle;\n",
       "    }\n",
       "\n",
       "    .dataframe tbody tr th {\n",
       "        vertical-align: top;\n",
       "    }\n",
       "\n",
       "    .dataframe thead th {\n",
       "        text-align: right;\n",
       "    }\n",
       "</style>\n",
       "<table border=\"1\" class=\"dataframe\">\n",
       "  <thead>\n",
       "    <tr style=\"text-align: right;\">\n",
       "      <th></th>\n",
       "      <th>patent_id</th>\n",
       "      <th>patent_type</th>\n",
       "      <th>patent_date</th>\n",
       "      <th>patent_title</th>\n",
       "      <th>wipo_kind</th>\n",
       "      <th>forward_citations</th>\n",
       "    </tr>\n",
       "  </thead>\n",
       "  <tbody>\n",
       "    <tr>\n",
       "      <th>0</th>\n",
       "      <td>10000000</td>\n",
       "      <td>utility</td>\n",
       "      <td>2018-06-19</td>\n",
       "      <td>Coherent LADAR using intra-pixel quadrature de...</td>\n",
       "      <td>B2</td>\n",
       "      <td>13</td>\n",
       "    </tr>\n",
       "    <tr>\n",
       "      <th>1</th>\n",
       "      <td>10000001</td>\n",
       "      <td>utility</td>\n",
       "      <td>2018-06-19</td>\n",
       "      <td>Injection molding machine and mold thickness c...</td>\n",
       "      <td>B2</td>\n",
       "      <td>0</td>\n",
       "    </tr>\n",
       "    <tr>\n",
       "      <th>2</th>\n",
       "      <td>10000002</td>\n",
       "      <td>utility</td>\n",
       "      <td>2018-06-19</td>\n",
       "      <td>Method for manufacturing polymer film and co-e...</td>\n",
       "      <td>B2</td>\n",
       "      <td>0</td>\n",
       "    </tr>\n",
       "    <tr>\n",
       "      <th>3</th>\n",
       "      <td>10000003</td>\n",
       "      <td>utility</td>\n",
       "      <td>2018-06-19</td>\n",
       "      <td>Method for producing a container from a thermo...</td>\n",
       "      <td>B2</td>\n",
       "      <td>2</td>\n",
       "    </tr>\n",
       "    <tr>\n",
       "      <th>4</th>\n",
       "      <td>10000004</td>\n",
       "      <td>utility</td>\n",
       "      <td>2018-06-19</td>\n",
       "      <td>Process of obtaining a double-oriented film, c...</td>\n",
       "      <td>B2</td>\n",
       "      <td>0</td>\n",
       "    </tr>\n",
       "  </tbody>\n",
       "</table>\n",
       "</div>"
      ],
      "text/plain": [
       "  patent_id patent_type patent_date  \\\n",
       "0  10000000     utility  2018-06-19   \n",
       "1  10000001     utility  2018-06-19   \n",
       "2  10000002     utility  2018-06-19   \n",
       "3  10000003     utility  2018-06-19   \n",
       "4  10000004     utility  2018-06-19   \n",
       "\n",
       "                                        patent_title wipo_kind  \\\n",
       "0  Coherent LADAR using intra-pixel quadrature de...        B2   \n",
       "1  Injection molding machine and mold thickness c...        B2   \n",
       "2  Method for manufacturing polymer film and co-e...        B2   \n",
       "3  Method for producing a container from a thermo...        B2   \n",
       "4  Process of obtaining a double-oriented film, c...        B2   \n",
       "\n",
       "   forward_citations  \n",
       "0                 13  \n",
       "1                  0  \n",
       "2                  0  \n",
       "3                  2  \n",
       "4                  0  "
      ]
     },
     "execution_count": 3,
     "metadata": {},
     "output_type": "execute_result"
    }
   ],
   "source": [
    "dtypes = {\n",
    "    \"patent_id\": \"string\",\n",
    "    \"forward_citations\": \"int64\",\n",
    "}\n",
    "fwd_citations = pd.read_csv(\"./data/final_fwdcitation.csv\", dtype=dtypes)\n",
    "\n",
    "fwd_citations.head()"
   ]
  },
  {
   "cell_type": "code",
   "execution_count": 4,
   "id": "4706e68b",
   "metadata": {},
   "outputs": [
    {
     "data": {
      "text/html": [
       "<div>\n",
       "<style scoped>\n",
       "    .dataframe tbody tr th:only-of-type {\n",
       "        vertical-align: middle;\n",
       "    }\n",
       "\n",
       "    .dataframe tbody tr th {\n",
       "        vertical-align: top;\n",
       "    }\n",
       "\n",
       "    .dataframe thead th {\n",
       "        text-align: right;\n",
       "    }\n",
       "</style>\n",
       "<table border=\"1\" class=\"dataframe\">\n",
       "  <thead>\n",
       "    <tr style=\"text-align: right;\">\n",
       "      <th></th>\n",
       "      <th>patent_id</th>\n",
       "      <th>cpc_sequence</th>\n",
       "      <th>cpc_section</th>\n",
       "      <th>cpc_class</th>\n",
       "      <th>cpc_subclass</th>\n",
       "      <th>cpc_group</th>\n",
       "      <th>cpc_type</th>\n",
       "    </tr>\n",
       "  </thead>\n",
       "  <tbody>\n",
       "    <tr>\n",
       "      <th>0</th>\n",
       "      <td>3950000</td>\n",
       "      <td>0</td>\n",
       "      <td>A</td>\n",
       "      <td>A63</td>\n",
       "      <td>A63C</td>\n",
       "      <td>A63C9/001</td>\n",
       "      <td>inventional</td>\n",
       "    </tr>\n",
       "    <tr>\n",
       "      <th>1</th>\n",
       "      <td>3950000</td>\n",
       "      <td>1</td>\n",
       "      <td>A</td>\n",
       "      <td>A63</td>\n",
       "      <td>A63C</td>\n",
       "      <td>A63C9/00</td>\n",
       "      <td>inventional</td>\n",
       "    </tr>\n",
       "    <tr>\n",
       "      <th>2</th>\n",
       "      <td>3950000</td>\n",
       "      <td>2</td>\n",
       "      <td>A</td>\n",
       "      <td>A63</td>\n",
       "      <td>A63C</td>\n",
       "      <td>A63C9/002</td>\n",
       "      <td>inventional</td>\n",
       "    </tr>\n",
       "    <tr>\n",
       "      <th>3</th>\n",
       "      <td>3950000</td>\n",
       "      <td>3</td>\n",
       "      <td>A</td>\n",
       "      <td>A63</td>\n",
       "      <td>A63C</td>\n",
       "      <td>A63C9/081</td>\n",
       "      <td>inventional</td>\n",
       "    </tr>\n",
       "    <tr>\n",
       "      <th>4</th>\n",
       "      <td>3950001</td>\n",
       "      <td>0</td>\n",
       "      <td>A</td>\n",
       "      <td>A63</td>\n",
       "      <td>A63C</td>\n",
       "      <td>A63C9/086</td>\n",
       "      <td>inventional</td>\n",
       "    </tr>\n",
       "  </tbody>\n",
       "</table>\n",
       "</div>"
      ],
      "text/plain": [
       "  patent_id  cpc_sequence cpc_section cpc_class cpc_subclass  cpc_group  \\\n",
       "0   3950000             0           A       A63         A63C  A63C9/001   \n",
       "1   3950000             1           A       A63         A63C   A63C9/00   \n",
       "2   3950000             2           A       A63         A63C  A63C9/002   \n",
       "3   3950000             3           A       A63         A63C  A63C9/081   \n",
       "4   3950001             0           A       A63         A63C  A63C9/086   \n",
       "\n",
       "      cpc_type  \n",
       "0  inventional  \n",
       "1  inventional  \n",
       "2  inventional  \n",
       "3  inventional  \n",
       "4  inventional  "
      ]
     },
     "execution_count": 4,
     "metadata": {},
     "output_type": "execute_result"
    }
   ],
   "source": [
    "dtypes = {\n",
    "    \"patent_id\": \"string\",\n",
    "    \"cpc_sequence\": \"int64\",\n",
    "}\n",
    "cpc = pd.read_csv(\n",
    "    \"./data/g_cpc_current.tsv\", \n",
    "    sep=\"\\t\",\n",
    "    dtype=dtypes,\n",
    "    )\n",
    "cpc.head()"
   ]
  },
  {
   "cell_type": "code",
   "execution_count": 5,
   "id": "25298399",
   "metadata": {},
   "outputs": [
    {
     "name": "stderr",
     "output_type": "stream",
     "text": [
      "/var/folders/zx/x6hb1_p95p33hh3235qrnlqm0000gn/T/ipykernel_13257/3262492686.py:5: DtypeWarning: Columns (5,6) have mixed types. Specify dtype option on import or set low_memory=False.\n",
      "  citations = pd.read_csv(\n"
     ]
    },
    {
     "data": {
      "text/html": [
       "<div>\n",
       "<style scoped>\n",
       "    .dataframe tbody tr th:only-of-type {\n",
       "        vertical-align: middle;\n",
       "    }\n",
       "\n",
       "    .dataframe tbody tr th {\n",
       "        vertical-align: top;\n",
       "    }\n",
       "\n",
       "    .dataframe thead th {\n",
       "        text-align: right;\n",
       "    }\n",
       "</style>\n",
       "<table border=\"1\" class=\"dataframe\">\n",
       "  <thead>\n",
       "    <tr style=\"text-align: right;\">\n",
       "      <th></th>\n",
       "      <th>patent_id</th>\n",
       "      <th>citation_sequence</th>\n",
       "      <th>citation_patent_id</th>\n",
       "      <th>citation_date</th>\n",
       "      <th>record_name</th>\n",
       "      <th>wipo_kind</th>\n",
       "      <th>citation_category</th>\n",
       "    </tr>\n",
       "  </thead>\n",
       "  <tbody>\n",
       "    <tr>\n",
       "      <th>0</th>\n",
       "      <td>10000000</td>\n",
       "      <td>0</td>\n",
       "      <td>5093563</td>\n",
       "      <td>1992-03-01</td>\n",
       "      <td>Small</td>\n",
       "      <td>A</td>\n",
       "      <td>cited by examiner</td>\n",
       "    </tr>\n",
       "    <tr>\n",
       "      <th>1</th>\n",
       "      <td>10000000</td>\n",
       "      <td>1</td>\n",
       "      <td>5751830</td>\n",
       "      <td>1998-05-01</td>\n",
       "      <td>Hutchinson</td>\n",
       "      <td>A</td>\n",
       "      <td>cited by applicant</td>\n",
       "    </tr>\n",
       "    <tr>\n",
       "      <th>2</th>\n",
       "      <td>10000001</td>\n",
       "      <td>0</td>\n",
       "      <td>7804268</td>\n",
       "      <td>2010-09-01</td>\n",
       "      <td>Park</td>\n",
       "      <td>B2</td>\n",
       "      <td>cited by examiner</td>\n",
       "    </tr>\n",
       "    <tr>\n",
       "      <th>3</th>\n",
       "      <td>10000001</td>\n",
       "      <td>1</td>\n",
       "      <td>9022767</td>\n",
       "      <td>2015-05-01</td>\n",
       "      <td>Oono</td>\n",
       "      <td>B2</td>\n",
       "      <td>cited by examiner</td>\n",
       "    </tr>\n",
       "    <tr>\n",
       "      <th>4</th>\n",
       "      <td>10000001</td>\n",
       "      <td>2</td>\n",
       "      <td>9090016</td>\n",
       "      <td>2015-07-01</td>\n",
       "      <td>Takeuchi</td>\n",
       "      <td>B2</td>\n",
       "      <td>cited by examiner</td>\n",
       "    </tr>\n",
       "  </tbody>\n",
       "</table>\n",
       "</div>"
      ],
      "text/plain": [
       "  patent_id  citation_sequence citation_patent_id citation_date record_name  \\\n",
       "0  10000000                  0            5093563    1992-03-01       Small   \n",
       "1  10000000                  1            5751830    1998-05-01  Hutchinson   \n",
       "2  10000001                  0            7804268    2010-09-01        Park   \n",
       "3  10000001                  1            9022767    2015-05-01        Oono   \n",
       "4  10000001                  2            9090016    2015-07-01    Takeuchi   \n",
       "\n",
       "  wipo_kind   citation_category  \n",
       "0         A   cited by examiner  \n",
       "1         A  cited by applicant  \n",
       "2        B2   cited by examiner  \n",
       "3        B2   cited by examiner  \n",
       "4        B2   cited by examiner  "
      ]
     },
     "execution_count": 5,
     "metadata": {},
     "output_type": "execute_result"
    }
   ],
   "source": [
    "citations_dtypes = {\n",
    "    \"patent_id\": \"string\",\n",
    "    \"citation_patent_id\": \"string\",\n",
    "}\n",
    "citations = pd.read_csv(\n",
    "    \"./data/g_us_patent_citation.tsv\", \n",
    "    sep=\"\\t\",\n",
    "    dtype=citations_dtypes,\n",
    "    )\n",
    "citations.head()"
   ]
  },
  {
   "cell_type": "code",
   "execution_count": 6,
   "id": "3ea302cf",
   "metadata": {},
   "outputs": [],
   "source": [
    "fwd_citations = fwd_citations[[\"patent_id\", \"forward_citations\"]]\n",
    "cpc = cpc[[\"patent_id\", \"cpc_sequence\", \"cpc_subclass\", \"cpc_group\"]]\n",
    "citations = citations[[\"patent_id\", \"citation_sequence\", \"citation_patent_id\"]]"
   ]
  },
  {
   "cell_type": "code",
   "execution_count": 7,
   "id": "6de3baea",
   "metadata": {},
   "outputs": [
    {
     "name": "stdout",
     "output_type": "stream",
     "text": [
      "Number of patents: 7507819\n"
     ]
    }
   ],
   "source": [
    "num_patents = fwd_citations[\"patent_id\"].nunique()\n",
    "print(f\"Number of patents: {num_patents}\")"
   ]
  },
  {
   "cell_type": "code",
   "execution_count": 8,
   "id": "649f8228",
   "metadata": {},
   "outputs": [
    {
     "data": {
      "text/plain": [
       "patent_id\n",
       "10000000                                  {G01S}\n",
       "10000001                            {G05B, B29C}\n",
       "10000002    {B32B, B29L, B29K, B60C, B29C, B29D}\n",
       "10000003                {B29K, B29L, B29D, B29C}\n",
       "10000004                      {B29K, B29L, B29C}\n",
       "Name: cpc_subclasses, dtype: object"
      ]
     },
     "execution_count": 8,
     "metadata": {},
     "output_type": "execute_result"
    }
   ],
   "source": [
    "from itertools import combinations\n",
    "import os\n",
    "\n",
    "#1. Group by patent_id and collect all cpc_subclasses for each patent\n",
    "# This will create a dataframe where each patent_id maps to a set of its cpc_subclasses\n",
    "cpc_subclasses = cpc.groupby(\"patent_id\")[\"cpc_subclass\"].apply(set)\n",
    "cpc_subclasses = pd.merge(\n",
    "    cpc_subclasses,\n",
    "    fwd_citations.set_index(\"patent_id\"), \n",
    "    left_index=True, \n",
    "    right_index=True,\n",
    "    how=\"right\",\n",
    "    validate=\"1:1\"\n",
    ")\n",
    "cpc_subclasses = cpc_subclasses[\"cpc_subclass\"]\n",
    "cpc_subclasses = cpc_subclasses.rename(\"cpc_subclasses\")\n",
    "cpc_subclasses.head()\n"
   ]
  },
  {
   "cell_type": "code",
   "execution_count": 9,
   "id": "515dc086",
   "metadata": {},
   "outputs": [
    {
     "data": {
      "text/plain": [
       "763040"
      ]
     },
     "execution_count": 9,
     "metadata": {},
     "output_type": "execute_result"
    }
   ],
   "source": [
    "# Check the number of patents with no cpc subclasses cited\n",
    "cpc_subclasses.isna().sum()"
   ]
  },
  {
   "cell_type": "code",
   "execution_count": 12,
   "id": "12ec73d7",
   "metadata": {},
   "outputs": [
    {
     "data": {
      "text/plain": [
       "patent_id\n",
       "10000000                                                   []\n",
       "10000001                                       [(B29C, G05B)]\n",
       "10000002    [(B29C, B29D), (B29C, B29K), (B29C, B29L), (B2...\n",
       "10000003    [(B29C, B29D), (B29C, B29K), (B29C, B29L), (B2...\n",
       "10000004           [(B29C, B29K), (B29C, B29L), (B29K, B29L)]\n",
       "Name: cpc_subclass_pairs, dtype: object"
      ]
     },
     "execution_count": 12,
     "metadata": {},
     "output_type": "execute_result"
    }
   ],
   "source": [
    "import ast\n",
    "import numpy as np\n",
    "# 2. Generate all unique pairs of cpc_subclasses for each patent\n",
    "def generate_pairs(cpc_subclass: set) -> list:\n",
    "    if pd.isna(cpc_subclass):\n",
    "        return []\n",
    "    if not isinstance(cpc_subclass, set):\n",
    "        cpc_subclass = set(cpc_subclass)\n",
    "    if not cpc_subclass:\n",
    "        return []\n",
    "    return list(combinations(sorted(cpc_subclass), 2))\n",
    "\n",
    "patent_cpc_subclass_pairs = None\n",
    "if not os.path.exists(\"./data/cpc_subclass_pairs.csv\"):\n",
    "    patent_cpc_subclass_pairs = cpc_subclasses.apply(generate_pairs)\n",
    "    patent_cpc_subclass_pairs = patent_cpc_subclass_pairs.rename(\"cpc_subclass_pairs\")\n",
    "    patent_cpc_subclass_pairs.to_csv(\"./data/cpc_subclass_pairs.csv\")\n",
    "else:\n",
    "    patent_cpc_subclass_pairs = pd.read_csv(\"./data/cpc_subclass_pairs.csv\", index_col=0, dtype={\"patent_id\": \"string\"})\n",
    "    patent_cpc_subclass_pairs[\"cpc_subclass_pairs\"] = patent_cpc_subclass_pairs[\"cpc_subclass_pairs\"].apply(ast.literal_eval)\n",
    "    patent_cpc_subclass_pairs = patent_cpc_subclass_pairs[\"cpc_subclass_pairs\"]\n",
    "patent_cpc_subclass_pairs.head()"
   ]
  },
  {
   "cell_type": "code",
   "execution_count": 13,
   "id": "4edf9ddf",
   "metadata": {},
   "outputs": [
    {
     "data": {
      "text/html": [
       "<div>\n",
       "<style scoped>\n",
       "    .dataframe tbody tr th:only-of-type {\n",
       "        vertical-align: middle;\n",
       "    }\n",
       "\n",
       "    .dataframe tbody tr th {\n",
       "        vertical-align: top;\n",
       "    }\n",
       "\n",
       "    .dataframe thead th {\n",
       "        text-align: right;\n",
       "    }\n",
       "</style>\n",
       "<table border=\"1\" class=\"dataframe\">\n",
       "  <thead>\n",
       "    <tr style=\"text-align: right;\">\n",
       "      <th></th>\n",
       "      <th>patent_id</th>\n",
       "      <th>cpc_subclass_pair</th>\n",
       "    </tr>\n",
       "  </thead>\n",
       "  <tbody>\n",
       "    <tr>\n",
       "      <th>0</th>\n",
       "      <td>10000000</td>\n",
       "      <td>NaN</td>\n",
       "    </tr>\n",
       "    <tr>\n",
       "      <th>1</th>\n",
       "      <td>10000001</td>\n",
       "      <td>(B29C, G05B)</td>\n",
       "    </tr>\n",
       "    <tr>\n",
       "      <th>2</th>\n",
       "      <td>10000002</td>\n",
       "      <td>(B29C, B29D)</td>\n",
       "    </tr>\n",
       "    <tr>\n",
       "      <th>3</th>\n",
       "      <td>10000002</td>\n",
       "      <td>(B29C, B29K)</td>\n",
       "    </tr>\n",
       "    <tr>\n",
       "      <th>4</th>\n",
       "      <td>10000002</td>\n",
       "      <td>(B29C, B29L)</td>\n",
       "    </tr>\n",
       "  </tbody>\n",
       "</table>\n",
       "</div>"
      ],
      "text/plain": [
       "  patent_id cpc_subclass_pair\n",
       "0  10000000               NaN\n",
       "1  10000001      (B29C, G05B)\n",
       "2  10000002      (B29C, B29D)\n",
       "3  10000002      (B29C, B29K)\n",
       "4  10000002      (B29C, B29L)"
      ]
     },
     "execution_count": 13,
     "metadata": {},
     "output_type": "execute_result"
    }
   ],
   "source": [
    "# 3. Flatten the list of pairs into a long-form DataFrame\n",
    "# Each row maps a patent to one of its cpc subclass pair, or NaN if it has fewer than 2 cpc subclasses cited\n",
    "patent_cpc_subclass_pairs_long = patent_cpc_subclass_pairs.explode()\n",
    "patent_cpc_subclass_pairs_long = patent_cpc_subclass_pairs_long.rename(\"cpc_subclass_pair\")\n",
    "patent_cpc_subclass_pairs_long = patent_cpc_subclass_pairs_long.to_frame().reset_index()\n",
    "patent_cpc_subclass_pairs_long.head()"
   ]
  },
  {
   "cell_type": "code",
   "execution_count": 14,
   "id": "cecd4036",
   "metadata": {},
   "outputs": [
    {
     "data": {
      "text/html": [
       "<div>\n",
       "<style scoped>\n",
       "    .dataframe tbody tr th:only-of-type {\n",
       "        vertical-align: middle;\n",
       "    }\n",
       "\n",
       "    .dataframe tbody tr th {\n",
       "        vertical-align: top;\n",
       "    }\n",
       "\n",
       "    .dataframe thead th {\n",
       "        text-align: right;\n",
       "    }\n",
       "</style>\n",
       "<table border=\"1\" class=\"dataframe\">\n",
       "  <thead>\n",
       "    <tr style=\"text-align: right;\">\n",
       "      <th></th>\n",
       "      <th>count</th>\n",
       "    </tr>\n",
       "    <tr>\n",
       "      <th>cpc_subclass_pair</th>\n",
       "      <th></th>\n",
       "    </tr>\n",
       "  </thead>\n",
       "  <tbody>\n",
       "    <tr>\n",
       "      <th>(A01B, A01C)</th>\n",
       "      <td>1662</td>\n",
       "    </tr>\n",
       "    <tr>\n",
       "      <th>(A01B, A01D)</th>\n",
       "      <td>1209</td>\n",
       "    </tr>\n",
       "    <tr>\n",
       "      <th>(A01B, A01F)</th>\n",
       "      <td>133</td>\n",
       "    </tr>\n",
       "    <tr>\n",
       "      <th>(A01B, A01G)</th>\n",
       "      <td>468</td>\n",
       "    </tr>\n",
       "    <tr>\n",
       "      <th>(A01B, A01H)</th>\n",
       "      <td>15</td>\n",
       "    </tr>\n",
       "  </tbody>\n",
       "</table>\n",
       "</div>"
      ],
      "text/plain": [
       "                   count\n",
       "cpc_subclass_pair       \n",
       "(A01B, A01C)        1662\n",
       "(A01B, A01D)        1209\n",
       "(A01B, A01F)         133\n",
       "(A01B, A01G)         468\n",
       "(A01B, A01H)          15"
      ]
     },
     "execution_count": 14,
     "metadata": {},
     "output_type": "execute_result"
    }
   ],
   "source": [
    "# 4. Count occurrences of each unique pair\n",
    "if not os.path.exists(\"./data/cpc_subclass_pair_counts.csv\"):\n",
    "    pair_counts = patent_cpc_subclass_pairs_long.groupby(\"cpc_subclass_pair\").size()\n",
    "    pair_counts = pair_counts.to_frame(name=\"count\")\n",
    "    pair_counts.to_csv(\"./data/cpc_subclass_pair_counts.csv\")\n",
    "else:\n",
    "    pair_counts = pd.read_csv(\"./data/cpc_subclass_pair_counts.csv\")\n",
    "    pair_counts[\"cpc_subclass_pair\"] = pair_counts[\"cpc_subclass_pair\"].apply(ast.literal_eval)\n",
    "    pair_counts = pair_counts.set_index(\"cpc_subclass_pair\")\n",
    "\n",
    "pair_counts.head()"
   ]
  },
  {
   "cell_type": "code",
   "execution_count": 15,
   "id": "179855b7",
   "metadata": {},
   "outputs": [
    {
     "name": "stdout",
     "output_type": "stream",
     "text": [
      "Total number of pairs in the dataset: count    14580344\n",
      "dtype: int64\n",
      "Number of unique pairs in the dataset: 95614\n"
     ]
    }
   ],
   "source": [
    "total_pairs = pair_counts.sum()\n",
    "print(f\"Total number of pairs in the dataset: {total_pairs}\")\n",
    "\n",
    "num_unique_pairs = pair_counts.index.nunique()\n",
    "print(f\"Number of unique pairs in the dataset: {num_unique_pairs}\")"
   ]
  },
  {
   "cell_type": "code",
   "execution_count": 16,
   "id": "606be87a",
   "metadata": {},
   "outputs": [
    {
     "data": {
      "text/html": [
       "<div>\n",
       "<style scoped>\n",
       "    .dataframe tbody tr th:only-of-type {\n",
       "        vertical-align: middle;\n",
       "    }\n",
       "\n",
       "    .dataframe tbody tr th {\n",
       "        vertical-align: top;\n",
       "    }\n",
       "\n",
       "    .dataframe thead th {\n",
       "        text-align: right;\n",
       "    }\n",
       "</style>\n",
       "<table border=\"1\" class=\"dataframe\">\n",
       "  <thead>\n",
       "    <tr style=\"text-align: right;\">\n",
       "      <th></th>\n",
       "      <th>count</th>\n",
       "      <th>atypicality_score</th>\n",
       "    </tr>\n",
       "    <tr>\n",
       "      <th>cpc_subclass_pair</th>\n",
       "      <th></th>\n",
       "      <th></th>\n",
       "    </tr>\n",
       "  </thead>\n",
       "  <tbody>\n",
       "    <tr>\n",
       "      <th>(A01B, A01C)</th>\n",
       "      <td>1662</td>\n",
       "      <td>9.079408</td>\n",
       "    </tr>\n",
       "    <tr>\n",
       "      <th>(A01B, A01D)</th>\n",
       "      <td>1209</td>\n",
       "      <td>9.397636</td>\n",
       "    </tr>\n",
       "    <tr>\n",
       "      <th>(A01B, A01F)</th>\n",
       "      <td>133</td>\n",
       "      <td>11.604836</td>\n",
       "    </tr>\n",
       "    <tr>\n",
       "      <th>(A01B, A01G)</th>\n",
       "      <td>468</td>\n",
       "      <td>10.346717</td>\n",
       "    </tr>\n",
       "    <tr>\n",
       "      <th>(A01B, A01H)</th>\n",
       "      <td>15</td>\n",
       "      <td>13.787135</td>\n",
       "    </tr>\n",
       "  </tbody>\n",
       "</table>\n",
       "</div>"
      ],
      "text/plain": [
       "                   count  atypicality_score\n",
       "cpc_subclass_pair                          \n",
       "(A01B, A01C)        1662           9.079408\n",
       "(A01B, A01D)        1209           9.397636\n",
       "(A01B, A01F)         133          11.604836\n",
       "(A01B, A01G)         468          10.346717\n",
       "(A01B, A01H)          15          13.787135"
      ]
     },
     "execution_count": 16,
     "metadata": {},
     "output_type": "execute_result"
    }
   ],
   "source": [
    "import numpy as np\n",
    "# 5. Assign each cpc subclass pair an atypicality score\n",
    "def atypicality_score(n):\n",
    "    if n > 0:\n",
    "        return -np.log(n/total_pairs)\n",
    "    else:\n",
    "        # This should not happen since the pairs are generated from existing data. If it does, raise an error.\n",
    "        raise ValueError(\"Count must be greater than 0\")\n",
    "\n",
    "if not os.path.exists(\"./data/cpc_subclass_pair_counts_with_atypicality.csv\"):\n",
    "    pair_counts[\"atypicality_score\"] = pair_counts[\"count\"].apply(atypicality_score)\n",
    "    pair_counts.to_csv(\"./data/cpc_subclass_pair_counts_with_atypicality.csv\")\n",
    "else: \n",
    "    pair_counts = pd.read_csv(\"./data/cpc_subclass_pair_counts_with_atypicality.csv\")\n",
    "    pair_counts[\"cpc_subclass_pair\"] = pair_counts[\"cpc_subclass_pair\"].apply(ast.literal_eval)\n",
    "    pair_counts = pair_counts.set_index(\"cpc_subclass_pair\")\n",
    "pair_counts.head()\n",
    "\n",
    "\n"
   ]
  },
  {
   "cell_type": "code",
   "execution_count": 17,
   "id": "b8db2859",
   "metadata": {},
   "outputs": [
    {
     "data": {
      "text/plain": [
       "count    95614.000000\n",
       "mean        14.105618\n",
       "std          1.963772\n",
       "min          4.489449\n",
       "25%         12.857599\n",
       "50%         14.415743\n",
       "75%         15.802038\n",
       "max         16.495185\n",
       "Name: atypicality_score, dtype: float64"
      ]
     },
     "execution_count": 17,
     "metadata": {},
     "output_type": "execute_result"
    }
   ],
   "source": [
    "# Atypicality score per cpc subclass pair summary statistics\n",
    "pair_counts[\"atypicality_score\"].describe()"
   ]
  },
  {
   "cell_type": "code",
   "execution_count": 18,
   "id": "d5bc7658",
   "metadata": {},
   "outputs": [],
   "source": [
    "pair_counts_dict = pair_counts.to_dict(orient=\"index\")"
   ]
  },
  {
   "cell_type": "code",
   "execution_count": 20,
   "id": "a59bd55f",
   "metadata": {},
   "outputs": [
    {
     "data": {
      "text/html": [
       "<div>\n",
       "<style scoped>\n",
       "    .dataframe tbody tr th:only-of-type {\n",
       "        vertical-align: middle;\n",
       "    }\n",
       "\n",
       "    .dataframe tbody tr th {\n",
       "        vertical-align: top;\n",
       "    }\n",
       "\n",
       "    .dataframe thead th {\n",
       "        text-align: right;\n",
       "    }\n",
       "</style>\n",
       "<table border=\"1\" class=\"dataframe\">\n",
       "  <thead>\n",
       "    <tr style=\"text-align: right;\">\n",
       "      <th></th>\n",
       "      <th>cpc_subclass_pairs</th>\n",
       "      <th>atypicality_score</th>\n",
       "    </tr>\n",
       "    <tr>\n",
       "      <th>patent_id</th>\n",
       "      <th></th>\n",
       "      <th></th>\n",
       "    </tr>\n",
       "  </thead>\n",
       "  <tbody>\n",
       "    <tr>\n",
       "      <th>10000000</th>\n",
       "      <td>[]</td>\n",
       "      <td>NaN</td>\n",
       "    </tr>\n",
       "    <tr>\n",
       "      <th>10000001</th>\n",
       "      <td>[(B29C, G05B)]</td>\n",
       "      <td>8.984207</td>\n",
       "    </tr>\n",
       "    <tr>\n",
       "      <th>10000002</th>\n",
       "      <td>[(B29C, B29D), (B29C, B29K), (B29C, B29L), (B2...</td>\n",
       "      <td>8.375340</td>\n",
       "    </tr>\n",
       "    <tr>\n",
       "      <th>10000003</th>\n",
       "      <td>[(B29C, B29D), (B29C, B29K), (B29C, B29L), (B2...</td>\n",
       "      <td>6.990229</td>\n",
       "    </tr>\n",
       "    <tr>\n",
       "      <th>10000004</th>\n",
       "      <td>[(B29C, B29K), (B29C, B29L), (B29K, B29L)]</td>\n",
       "      <td>6.239670</td>\n",
       "    </tr>\n",
       "  </tbody>\n",
       "</table>\n",
       "</div>"
      ],
      "text/plain": [
       "                                          cpc_subclass_pairs  \\\n",
       "patent_id                                                      \n",
       "10000000                                                  []   \n",
       "10000001                                      [(B29C, G05B)]   \n",
       "10000002   [(B29C, B29D), (B29C, B29K), (B29C, B29L), (B2...   \n",
       "10000003   [(B29C, B29D), (B29C, B29K), (B29C, B29L), (B2...   \n",
       "10000004          [(B29C, B29K), (B29C, B29L), (B29K, B29L)]   \n",
       "\n",
       "           atypicality_score  \n",
       "patent_id                     \n",
       "10000000                 NaN  \n",
       "10000001            8.984207  \n",
       "10000002            8.375340  \n",
       "10000003            6.990229  \n",
       "10000004            6.239670  "
      ]
     },
     "execution_count": 20,
     "metadata": {},
     "output_type": "execute_result"
    }
   ],
   "source": [
    "# Step 6: Calculate the atypicality score for each patent\n",
    "def calculate_atypicality_score(cpc_subclass_pairs):\n",
    "    if len(cpc_subclass_pairs) == 0:\n",
    "        return np.nan\n",
    "    # Get the atypicality score for each cpc_subclass pair\n",
    "    scores = [pair_counts_dict.get(tuple(pair)).get(\"atypicality_score\") for pair in cpc_subclass_pairs]\n",
    "    if len(scores) == 0:\n",
    "        raise RuntimeError(\"No matching pairs found for the given cpc_group_pairs.\")\n",
    "    \n",
    "    # Calculate the atypicality score for each patent = average atypicality score for all cpc subclass pairs it cites\n",
    "    atypicality_score = np.mean(scores)\n",
    "    \n",
    "    return atypicality_score\n",
    "\n",
    "if not os.path.exists(\"./data/patents_with_atypicality.csv\"):\n",
    "    if not isinstance(patent_cpc_subclass_pairs, pd.DataFrame):\n",
    "        patent_cpc_subclass_pairs = patent_cpc_subclass_pairs.to_frame()\n",
    "    # Group by patent_id and calculate the atypicality score for each patent\n",
    "    patent_cpc_subclass_pairs[\"atypicality_score\"] = patent_cpc_subclass_pairs[\"cpc_subclass_pairs\"].apply(calculate_atypicality_score)\n",
    "    patent_cpc_subclass_pairs.to_csv(\"./data/patents_with_atypicality.csv\")\n",
    "else:\n",
    "    patent_cpc_subclass_pairs = pd.read_csv(\"./data/patents_with_atypicality.csv\", index_col=0)\n",
    "    patent_cpc_subclass_pairs[\"cpc_subclass_pairs\"] = patent_cpc_subclass_pairs[\"cpc_subclass_pairs\"].apply(ast.literal_eval)\n",
    "\n",
    "\n",
    "patent_cpc_subclass_pairs.head()"
   ]
  },
  {
   "cell_type": "code",
   "execution_count": 21,
   "id": "efd6e582",
   "metadata": {},
   "outputs": [
    {
     "data": {
      "text/plain": [
       "count    4.056170e+06\n",
       "mean     8.093600e+00\n",
       "std      1.987437e+00\n",
       "min      4.489449e+00\n",
       "25%      6.627396e+00\n",
       "50%      8.040293e+00\n",
       "75%      9.427694e+00\n",
       "max      1.649518e+01\n",
       "Name: atypicality_score, dtype: float64"
      ]
     },
     "execution_count": 21,
     "metadata": {},
     "output_type": "execute_result"
    }
   ],
   "source": [
    "# Atypicality score summary statistics\n",
    "patent_cpc_subclass_pairs[\"atypicality_score\"].describe()"
   ]
  },
  {
   "cell_type": "code",
   "execution_count": 22,
   "id": "d7c16830",
   "metadata": {},
   "outputs": [
    {
     "data": {
      "text/html": [
       "<div>\n",
       "<style scoped>\n",
       "    .dataframe tbody tr th:only-of-type {\n",
       "        vertical-align: middle;\n",
       "    }\n",
       "\n",
       "    .dataframe tbody tr th {\n",
       "        vertical-align: top;\n",
       "    }\n",
       "\n",
       "    .dataframe thead th {\n",
       "        text-align: right;\n",
       "    }\n",
       "</style>\n",
       "<table border=\"1\" class=\"dataframe\">\n",
       "  <thead>\n",
       "    <tr style=\"text-align: right;\">\n",
       "      <th></th>\n",
       "      <th>cpc_subclass_pairs</th>\n",
       "      <th>atypicality_score</th>\n",
       "      <th>cpc_subclasses</th>\n",
       "    </tr>\n",
       "    <tr>\n",
       "      <th>patent_id</th>\n",
       "      <th></th>\n",
       "      <th></th>\n",
       "      <th></th>\n",
       "    </tr>\n",
       "  </thead>\n",
       "  <tbody>\n",
       "    <tr>\n",
       "      <th>10000000</th>\n",
       "      <td>[]</td>\n",
       "      <td>NaN</td>\n",
       "      <td>{G01S}</td>\n",
       "    </tr>\n",
       "    <tr>\n",
       "      <th>10000001</th>\n",
       "      <td>[(B29C, G05B)]</td>\n",
       "      <td>8.984207</td>\n",
       "      <td>{G05B, B29C}</td>\n",
       "    </tr>\n",
       "    <tr>\n",
       "      <th>10000002</th>\n",
       "      <td>[(B29C, B29D), (B29C, B29K), (B29C, B29L), (B2...</td>\n",
       "      <td>8.375340</td>\n",
       "      <td>{B32B, B29L, B29K, B60C, B29C, B29D}</td>\n",
       "    </tr>\n",
       "    <tr>\n",
       "      <th>10000003</th>\n",
       "      <td>[(B29C, B29D), (B29C, B29K), (B29C, B29L), (B2...</td>\n",
       "      <td>6.990229</td>\n",
       "      <td>{B29K, B29L, B29D, B29C}</td>\n",
       "    </tr>\n",
       "    <tr>\n",
       "      <th>10000004</th>\n",
       "      <td>[(B29C, B29K), (B29C, B29L), (B29K, B29L)]</td>\n",
       "      <td>6.239670</td>\n",
       "      <td>{B29K, B29L, B29C}</td>\n",
       "    </tr>\n",
       "  </tbody>\n",
       "</table>\n",
       "</div>"
      ],
      "text/plain": [
       "                                          cpc_subclass_pairs  \\\n",
       "patent_id                                                      \n",
       "10000000                                                  []   \n",
       "10000001                                      [(B29C, G05B)]   \n",
       "10000002   [(B29C, B29D), (B29C, B29K), (B29C, B29L), (B2...   \n",
       "10000003   [(B29C, B29D), (B29C, B29K), (B29C, B29L), (B2...   \n",
       "10000004          [(B29C, B29K), (B29C, B29L), (B29K, B29L)]   \n",
       "\n",
       "           atypicality_score                        cpc_subclasses  \n",
       "patent_id                                                           \n",
       "10000000                 NaN                                {G01S}  \n",
       "10000001            8.984207                          {G05B, B29C}  \n",
       "10000002            8.375340  {B32B, B29L, B29K, B60C, B29C, B29D}  \n",
       "10000003            6.990229              {B29K, B29L, B29D, B29C}  \n",
       "10000004            6.239670                    {B29K, B29L, B29C}  "
      ]
     },
     "execution_count": 22,
     "metadata": {},
     "output_type": "execute_result"
    }
   ],
   "source": [
    "# 8. Merge the atypicality scores with the list of cpc subclasses to get the full output\n",
    "patent_cpc_subclass_pairs_with_atypicality = pd.merge(patent_cpc_subclass_pairs, cpc_subclasses, right_index=True, left_index=True, how=\"inner\", validate=\"1:1\")\n",
    "patent_cpc_subclass_pairs_with_atypicality.head()"
   ]
  },
  {
   "cell_type": "code",
   "execution_count": 23,
   "id": "a2012353",
   "metadata": {},
   "outputs": [],
   "source": [
    "# Step 9: Save the final DataFrame to a CSV file\n",
    "patent_cpc_subclass_pairs_with_atypicality.to_csv(\"./data/patents_with_atypicality.csv\")"
   ]
  },
  {
   "cell_type": "code",
   "execution_count": 24,
   "id": "ff448106",
   "metadata": {},
   "outputs": [
    {
     "name": "stdout",
     "output_type": "stream",
     "text": [
      "Number of patents in the output dataset: 7507819\n"
     ]
    }
   ],
   "source": [
    "# 10. Validate that the output dataset contains the expected number of patents\n",
    "num_patents = patent_cpc_subclass_pairs_with_atypicality.shape[0]\n",
    "print(f\"Number of patents in the output dataset: {num_patents}\")"
   ]
  },
  {
   "cell_type": "code",
   "execution_count": 25,
   "id": "049b4fa3",
   "metadata": {},
   "outputs": [
    {
     "data": {
      "text/plain": [
       "cpc_subclass_pairs          0\n",
       "atypicality_score     3451649\n",
       "cpc_subclasses         763040\n",
       "dtype: int64"
      ]
     },
     "execution_count": 25,
     "metadata": {},
     "output_type": "execute_result"
    }
   ],
   "source": [
    "patent_cpc_subclass_pairs_with_atypicality.isna().sum()"
   ]
  },
  {
   "cell_type": "markdown",
   "id": "bbd4eded",
   "metadata": {},
   "source": [
    "## Atypicality Score Summary Statistics\n",
    "\n",
    "| Atypicality Score Statistic | Value     |\n",
    "|----------------------------|-----------|\n",
    "| Number of non-null values  | 4,056,170 |\n",
    "| Number of null values      | 3,451,649 |\n",
    "| Total Count                | 7,507,819 |\n",
    "| Mean                       | 8.0936    |\n",
    "| Standard Deviation         | 1.9874    |\n",
    "| Min                        | 4.4894    |\n",
    "| Max                        | 16.4952   |\n",
    "| 25th-percentile            | 6.6274    |\n",
    "| 50th-percentile            | 8.0403    |\n",
    "| 75th-percentile            | 9.4277    |"
   ]
  },
  {
   "cell_type": "code",
   "execution_count": 26,
   "id": "b095b2ea",
   "metadata": {},
   "outputs": [
    {
     "name": "stdout",
     "output_type": "stream",
     "text": [
      "All patents with NaN atypicality scores have fewer than 2 cpc_subclass_pairs.\n"
     ]
    }
   ],
   "source": [
    "# 11. Validate that all the patents with NaN atypicality scores are indeed patents with fewer than 2 cpc_subclass_pairs\n",
    "assert patent_cpc_subclass_pairs_with_atypicality[patent_cpc_subclass_pairs_with_atypicality[\"atypicality_score\"].isna()][\"cpc_subclass_pairs\"].apply(lambda x: len(x) < 2).all(), \"There are patents with NaN atypicality scores that have more than 1 cpc_subclass_pairs.\"\n",
    "print(\"All patents with NaN atypicality scores have fewer than 2 cpc_subclass_pairs.\")"
   ]
  },
  {
   "cell_type": "code",
   "execution_count": 27,
   "id": "6e778f74",
   "metadata": {},
   "outputs": [
    {
     "name": "stdout",
     "output_type": "stream",
     "text": [
      "All cpc_subclass_pairs have been counted correctly.\n"
     ]
    }
   ],
   "source": [
    "# 12. Validate that no cpc_subclass_pairs have been over-counted, i.e. the sum of counts in pair_counts matches the total number of pairs in patent_cpc_subclass_pairs_long\n",
    "assert pair_counts[\"count\"].sum() == patent_cpc_subclass_pairs_long.dropna(subset=[\"cpc_subclass_pair\"]).shape[0], f\"The sum of counts in pair_counts ({pair_counts['count'].sum()}) does not match the total number of pairs in patent_cpc_subclass_pairs_long ({patent_cpc_subclass_pairs_long.dropna(subset=['cpc_subclass_pair']).shape[0]}).\"\n",
    "print(\"All cpc_subclass_pairs have been counted correctly.\")"
   ]
  },
  {
   "cell_type": "code",
   "execution_count": 31,
   "id": "fe2b21d5",
   "metadata": {},
   "outputs": [
    {
     "name": "stdout",
     "output_type": "stream",
     "text": [
      "All manual checks passed successfully.\n"
     ]
    }
   ],
   "source": [
    "# 13. Random spot check: Validate that the atypicality score for a random patent matches the expected value\n",
    "import random\n",
    "def manual_check(patent_id):\n",
    "    cpc_subclass_pairs = patent_cpc_subclass_pairs.loc[patent_id, \"cpc_subclass_pairs\"]\n",
    "    if isinstance(cpc_subclass_pairs, str):\n",
    "        cpc_subclass_pairs = ast.literal_eval(cpc_subclass_pairs)\n",
    "    if len(cpc_subclass_pairs) == 0:\n",
    "        return np.nan\n",
    "    counts = [pair_counts_dict.get(tuple(pair)).get(\"count\") for pair in cpc_subclass_pairs]\n",
    "    if len(counts) == 0 or None in counts:\n",
    "        raise RuntimeError(\"No matching pairs found for the given cpc_subclass_pairs.\")\n",
    "    scores = [-np.log(count/total_pairs) if count > 0 else np.nan for count in counts]\n",
    "    atypicality_score = np.mean(scores)\n",
    "    return atypicality_score\n",
    "\n",
    "samples = random.sample(patent_cpc_subclass_pairs_with_atypicality.index.tolist(), 10000)\n",
    "for sample in samples:\n",
    "    expected_score = manual_check(sample)\n",
    "    actual_score = patent_cpc_subclass_pairs_with_atypicality.loc[sample, \"atypicality_score\"]\n",
    "    assert np.isclose(expected_score, actual_score, equal_nan=True), f\"Expected {expected_score}, but got {actual_score} for patent {sample}.\"\n",
    "print(\"All manual checks passed successfully.\")\n"
   ]
  },
  {
   "cell_type": "code",
   "execution_count": 32,
   "id": "41a0edbf",
   "metadata": {},
   "outputs": [
    {
     "name": "stdout",
     "output_type": "stream",
     "text": [
      "Number of patents in the output dataset matches the number of patents in the input dataset.\n"
     ]
    }
   ],
   "source": [
    "num_patents_in_output = patent_cpc_subclass_pairs_with_atypicality.shape[0]\n",
    "assert num_patents_in_output == num_patents, f\"Number of patents in the output dataset ({num_patents_in_output}) does not match the number of patents in the input dataset ({num_patents}).\"\n",
    "print(\"Number of patents in the output dataset matches the number of patents in the input dataset.\")"
   ]
  },
  {
   "cell_type": "markdown",
   "id": "6e4baceb",
   "metadata": {},
   "source": [
    "## Technological Leap Score\n",
    "\n",
    "This notebook calculates the Technological Leap Score for all patents in the `final_fwdcitations.csv` dataset.\n",
    "\n",
    "### Steps\n",
    "\n",
    "1. Find the set of backward citations (set of patents cited by a patent) for each patent in `g_us_patent_citations.csv` dataset.\n",
    "\n",
    "2. Filter the set of backward citations to only include those that occur in the `final_fwdcitations.csv` dataset.\n",
    "\n",
    "3. For each patent, find the set of CPC groups that are cited by the patent.\n",
    "\n",
    "4. For each patent, find the set of CPC groups that are cited by its backward citations. \n",
    "\n",
    "5. Find the intersection of (3) and (4) to get the overlapping CPC groups.\n",
    "\n",
    "6. Find the union of (3) and (4) to get the total CPC groups.\n",
    "\n",
    "7. Calculate the Jaccard Similarity score = \n",
    "$$\n",
    "\\text{Similarity Score} = \\begin{cases}\n",
    "\\frac{\\text{Number of Overlapping CPC groups}}{\\text{Total CPC groups in New Patent and Cited Patents}} & \\text{if Total CPC groups} > 0 \\\\\n",
    "NaN & \\text{otherwise}\n",
    "\\end{cases}\n",
    "$$\n",
    "\n",
    "8. Calculate the Technological Leap Score = \n",
    "$$1 - \\text{Similarity Score}$$"
   ]
  },
  {
   "cell_type": "code",
   "execution_count": 35,
   "id": "4f43ab20",
   "metadata": {},
   "outputs": [],
   "source": [
    "# 1. Create a dictionary mapping patent IDs to a list of patent IDs they cite\n",
    "citations_list = citations.groupby(\"patent_id\")[\"citation_patent_id\"].apply(list)\n",
    "citations_dict = citations_list.to_dict()"
   ]
  },
  {
   "cell_type": "code",
   "execution_count": 36,
   "id": "5d01c2db",
   "metadata": {},
   "outputs": [
    {
     "data": {
      "text/plain": [
       "patent_id\n",
       "10000000    {G01S7/4865, G01S17/894, G01S7/4917, G01S7/486...\n",
       "10000001    {B29C2945/76083, B29C45/64, B29C45/7653, G05B2...\n",
       "10000002    {B32B2475/00, B32B2307/554, B29D2030/0682, B32...\n",
       "10000003    {B29C2049/4881, B29C49/20, B29L2031/7172, B29C...\n",
       "10000004    {B29C48/9105, B29K2105/258, B29K2023/00, B29C4...\n",
       "Name: cpc_groups, dtype: object"
      ]
     },
     "execution_count": 36,
     "metadata": {},
     "output_type": "execute_result"
    }
   ],
   "source": [
    "# 2. Create a dictionary mapping patent IDs to a list of their CPC groups\n",
    "cpc_groups = cpc.groupby(\"patent_id\")[\"cpc_group\"].apply(set)\n",
    "cpc_groups = pd.merge(\n",
    "    cpc_groups,\n",
    "    fwd_citations.set_index(\"patent_id\"), \n",
    "    left_index=True, \n",
    "    right_index=True,\n",
    "    how=\"right\",\n",
    "    validate=\"1:1\"\n",
    ")\n",
    "cpc_groups = cpc_groups[\"cpc_group\"]\n",
    "cpc_groups = cpc_groups.rename(\"cpc_groups\")\n",
    "cpc_groups.head()"
   ]
  },
  {
   "cell_type": "code",
   "execution_count": 37,
   "id": "a406b78d",
   "metadata": {},
   "outputs": [
    {
     "data": {
      "text/plain": [
       "763040"
      ]
     },
     "execution_count": 37,
     "metadata": {},
     "output_type": "execute_result"
    }
   ],
   "source": [
    "cpc_groups.isna().sum()"
   ]
  },
  {
   "cell_type": "code",
   "execution_count": 38,
   "id": "153a8e47",
   "metadata": {},
   "outputs": [],
   "source": [
    "cpc_groups_dict = cpc_groups.to_dict()"
   ]
  },
  {
   "cell_type": "code",
   "execution_count": 39,
   "id": "7e155f29",
   "metadata": {},
   "outputs": [
    {
     "data": {
      "text/html": [
       "<div>\n",
       "<style scoped>\n",
       "    .dataframe tbody tr th:only-of-type {\n",
       "        vertical-align: middle;\n",
       "    }\n",
       "\n",
       "    .dataframe tbody tr th {\n",
       "        vertical-align: top;\n",
       "    }\n",
       "\n",
       "    .dataframe thead th {\n",
       "        text-align: right;\n",
       "    }\n",
       "</style>\n",
       "<table border=\"1\" class=\"dataframe\">\n",
       "  <thead>\n",
       "    <tr style=\"text-align: right;\">\n",
       "      <th></th>\n",
       "      <th>cpc_subclass_pairs</th>\n",
       "      <th>atypicality_score</th>\n",
       "      <th>cpc_subclasses</th>\n",
       "      <th>intersect_cpc_groups</th>\n",
       "    </tr>\n",
       "    <tr>\n",
       "      <th>patent_id</th>\n",
       "      <th></th>\n",
       "      <th></th>\n",
       "      <th></th>\n",
       "      <th></th>\n",
       "    </tr>\n",
       "  </thead>\n",
       "  <tbody>\n",
       "    <tr>\n",
       "      <th>10000000</th>\n",
       "      <td>[]</td>\n",
       "      <td>NaN</td>\n",
       "      <td>{G01S}</td>\n",
       "      <td>[]</td>\n",
       "    </tr>\n",
       "    <tr>\n",
       "      <th>10000001</th>\n",
       "      <td>[(B29C, G05B)]</td>\n",
       "      <td>8.984207</td>\n",
       "      <td>{G05B, B29C}</td>\n",
       "      <td>[B29C45/1751, B29C2945/76083, B29C45/76]</td>\n",
       "    </tr>\n",
       "    <tr>\n",
       "      <th>10000002</th>\n",
       "      <td>[(B29C, B29D), (B29C, B29K), (B29C, B29L), (B2...</td>\n",
       "      <td>8.375340</td>\n",
       "      <td>{B32B, B29L, B29K, B60C, B29C, B29D}</td>\n",
       "      <td>[B32B27/08, B32B27/34, B29C48/21]</td>\n",
       "    </tr>\n",
       "    <tr>\n",
       "      <th>10000003</th>\n",
       "      <td>[(B29C, B29D), (B29C, B29K), (B29C, B29L), (B2...</td>\n",
       "      <td>6.990229</td>\n",
       "      <td>{B29K, B29L, B29D, B29C}</td>\n",
       "      <td>[B29C49/20, B29L2031/7172, B29C2049/4881, B29C...</td>\n",
       "    </tr>\n",
       "    <tr>\n",
       "      <th>10000004</th>\n",
       "      <td>[(B29C, B29K), (B29C, B29L), (B29K, B29L)]</td>\n",
       "      <td>6.239670</td>\n",
       "      <td>{B29K, B29L, B29C}</td>\n",
       "      <td>[B29C51/14]</td>\n",
       "    </tr>\n",
       "  </tbody>\n",
       "</table>\n",
       "</div>"
      ],
      "text/plain": [
       "                                          cpc_subclass_pairs  \\\n",
       "patent_id                                                      \n",
       "10000000                                                  []   \n",
       "10000001                                      [(B29C, G05B)]   \n",
       "10000002   [(B29C, B29D), (B29C, B29K), (B29C, B29L), (B2...   \n",
       "10000003   [(B29C, B29D), (B29C, B29K), (B29C, B29L), (B2...   \n",
       "10000004          [(B29C, B29K), (B29C, B29L), (B29K, B29L)]   \n",
       "\n",
       "           atypicality_score                        cpc_subclasses  \\\n",
       "patent_id                                                            \n",
       "10000000                 NaN                                {G01S}   \n",
       "10000001            8.984207                          {G05B, B29C}   \n",
       "10000002            8.375340  {B32B, B29L, B29K, B60C, B29C, B29D}   \n",
       "10000003            6.990229              {B29K, B29L, B29D, B29C}   \n",
       "10000004            6.239670                    {B29K, B29L, B29C}   \n",
       "\n",
       "                                        intersect_cpc_groups  \n",
       "patent_id                                                     \n",
       "10000000                                                  []  \n",
       "10000001            [B29C45/1751, B29C2945/76083, B29C45/76]  \n",
       "10000002                   [B32B27/08, B32B27/34, B29C48/21]  \n",
       "10000003   [B29C49/20, B29L2031/7172, B29C2049/4881, B29C...  \n",
       "10000004                                         [B29C51/14]  "
      ]
     },
     "execution_count": 39,
     "metadata": {},
     "output_type": "execute_result"
    }
   ],
   "source": [
    "# 3. Get the intersection of CPC groups between a patent and its backward citations\n",
    "def get_intersect_cpc_groups(row):\n",
    "    patent_id = row.name\n",
    "    patent_cpc_groups = cpc_groups_dict.get(patent_id, {})\n",
    "    if not patent_cpc_groups or (isinstance(patent_cpc_groups, float) and np.isnan(patent_cpc_groups)):\n",
    "        return []\n",
    "    backward_citations = citations_dict.get(patent_id, [])\n",
    "    if not backward_citations:\n",
    "        return []\n",
    "    backward_citations_cpc_groups = []\n",
    "    for citation in backward_citations:\n",
    "        citation_cpc_groups = cpc_groups_dict.get(citation, {})\n",
    "        if not citation_cpc_groups or (isinstance(citation_cpc_groups, float) and np.isnan(citation_cpc_groups)):\n",
    "            continue\n",
    "        if citation_cpc_groups:\n",
    "            backward_citations_cpc_groups.extend(citation_cpc_groups)\n",
    "    if not backward_citations_cpc_groups:\n",
    "        return []\n",
    "    return list(set(patent_cpc_groups) & set(backward_citations_cpc_groups))\n",
    "\n",
    "patent_cpc_subclass_pairs_with_atypicality[\"intersect_cpc_groups\"] = patent_cpc_subclass_pairs_with_atypicality.apply(get_intersect_cpc_groups, axis=1)\n",
    "patent_cpc_subclass_pairs_with_atypicality.head()"
   ]
  },
  {
   "cell_type": "code",
   "execution_count": 40,
   "id": "3412468a",
   "metadata": {},
   "outputs": [
    {
     "data": {
      "text/html": [
       "<div>\n",
       "<style scoped>\n",
       "    .dataframe tbody tr th:only-of-type {\n",
       "        vertical-align: middle;\n",
       "    }\n",
       "\n",
       "    .dataframe tbody tr th {\n",
       "        vertical-align: top;\n",
       "    }\n",
       "\n",
       "    .dataframe thead th {\n",
       "        text-align: right;\n",
       "    }\n",
       "</style>\n",
       "<table border=\"1\" class=\"dataframe\">\n",
       "  <thead>\n",
       "    <tr style=\"text-align: right;\">\n",
       "      <th></th>\n",
       "      <th>cpc_subclass_pairs</th>\n",
       "      <th>atypicality_score</th>\n",
       "      <th>cpc_subclasses</th>\n",
       "      <th>intersect_cpc_groups</th>\n",
       "      <th>union_cpc_groups</th>\n",
       "    </tr>\n",
       "    <tr>\n",
       "      <th>patent_id</th>\n",
       "      <th></th>\n",
       "      <th></th>\n",
       "      <th></th>\n",
       "      <th></th>\n",
       "      <th></th>\n",
       "    </tr>\n",
       "  </thead>\n",
       "  <tbody>\n",
       "    <tr>\n",
       "      <th>10000000</th>\n",
       "      <td>[]</td>\n",
       "      <td>NaN</td>\n",
       "      <td>{G01S}</td>\n",
       "      <td>[]</td>\n",
       "      <td>[G01S7/4865, G01S17/89, Y02A90/10, G01S17/894,...</td>\n",
       "    </tr>\n",
       "    <tr>\n",
       "      <th>10000001</th>\n",
       "      <td>[(B29C, G05B)]</td>\n",
       "      <td>8.984207</td>\n",
       "      <td>{G05B, B29C}</td>\n",
       "      <td>[B29C45/1751, B29C2945/76083, B29C45/76]</td>\n",
       "      <td>[G05B2219/45244, B29C45/83, B29C45/1751, B29C4...</td>\n",
       "    </tr>\n",
       "    <tr>\n",
       "      <th>10000002</th>\n",
       "      <td>[(B29C, B29D), (B29C, B29K), (B29C, B29L), (B2...</td>\n",
       "      <td>8.375340</td>\n",
       "      <td>{B32B, B29L, B29K, B60C, B29C, B29D}</td>\n",
       "      <td>[B32B27/08, B32B27/34, B29C48/21]</td>\n",
       "      <td>[B32B2475/00, B32B2457/08, B32B2307/554, B29D2...</td>\n",
       "    </tr>\n",
       "    <tr>\n",
       "      <th>10000003</th>\n",
       "      <td>[(B29C, B29D), (B29C, B29K), (B29C, B29L), (B2...</td>\n",
       "      <td>6.990229</td>\n",
       "      <td>{B29K, B29L, B29D, B29C}</td>\n",
       "      <td>[B29C49/20, B29L2031/7172, B29C2049/4881, B29C...</td>\n",
       "      <td>[B29C2791/006, B29C51/267, B29C49/0691, B29L20...</td>\n",
       "    </tr>\n",
       "    <tr>\n",
       "      <th>10000004</th>\n",
       "      <td>[(B29C, B29K), (B29C, B29L), (B29K, B29L)]</td>\n",
       "      <td>6.239670</td>\n",
       "      <td>{B29K, B29L, B29C}</td>\n",
       "      <td>[B29C51/14]</td>\n",
       "      <td>[B32B2369/00, B65B31/04, B32B27/32, B65D75/580...</td>\n",
       "    </tr>\n",
       "  </tbody>\n",
       "</table>\n",
       "</div>"
      ],
      "text/plain": [
       "                                          cpc_subclass_pairs  \\\n",
       "patent_id                                                      \n",
       "10000000                                                  []   \n",
       "10000001                                      [(B29C, G05B)]   \n",
       "10000002   [(B29C, B29D), (B29C, B29K), (B29C, B29L), (B2...   \n",
       "10000003   [(B29C, B29D), (B29C, B29K), (B29C, B29L), (B2...   \n",
       "10000004          [(B29C, B29K), (B29C, B29L), (B29K, B29L)]   \n",
       "\n",
       "           atypicality_score                        cpc_subclasses  \\\n",
       "patent_id                                                            \n",
       "10000000                 NaN                                {G01S}   \n",
       "10000001            8.984207                          {G05B, B29C}   \n",
       "10000002            8.375340  {B32B, B29L, B29K, B60C, B29C, B29D}   \n",
       "10000003            6.990229              {B29K, B29L, B29D, B29C}   \n",
       "10000004            6.239670                    {B29K, B29L, B29C}   \n",
       "\n",
       "                                        intersect_cpc_groups  \\\n",
       "patent_id                                                      \n",
       "10000000                                                  []   \n",
       "10000001            [B29C45/1751, B29C2945/76083, B29C45/76]   \n",
       "10000002                   [B32B27/08, B32B27/34, B29C48/21]   \n",
       "10000003   [B29C49/20, B29L2031/7172, B29C2049/4881, B29C...   \n",
       "10000004                                         [B29C51/14]   \n",
       "\n",
       "                                            union_cpc_groups  \n",
       "patent_id                                                     \n",
       "10000000   [G01S7/4865, G01S17/89, Y02A90/10, G01S17/894,...  \n",
       "10000001   [G05B2219/45244, B29C45/83, B29C45/1751, B29C4...  \n",
       "10000002   [B32B2475/00, B32B2457/08, B32B2307/554, B29D2...  \n",
       "10000003   [B29C2791/006, B29C51/267, B29C49/0691, B29L20...  \n",
       "10000004   [B32B2369/00, B65B31/04, B32B27/32, B65D75/580...  "
      ]
     },
     "execution_count": 40,
     "metadata": {},
     "output_type": "execute_result"
    }
   ],
   "source": [
    "# 4. Get the union of CPC groups between a patent and its backward citations\n",
    "def get_union_cpc_groups(row):\n",
    "    patent_id = row.name\n",
    "    patent_cpc_groups = cpc_groups_dict.get(patent_id, {})\n",
    "    if not patent_cpc_groups or (isinstance(patent_cpc_groups, float) and np.isnan(patent_cpc_groups)):\n",
    "        return []\n",
    "    backward_citations = citations_dict.get(patent_id, [])\n",
    "    if not backward_citations:\n",
    "        return patent_cpc_groups\n",
    "    backward_citations_cpc_groups = []\n",
    "    for citation in backward_citations:\n",
    "        citation_cpc_groups = cpc_groups_dict.get(citation, {})\n",
    "        if not citation_cpc_groups or (isinstance(citation_cpc_groups, float) and np.isnan(citation_cpc_groups)):\n",
    "            continue\n",
    "        if citation_cpc_groups:\n",
    "            backward_citations_cpc_groups.extend(citation_cpc_groups)\n",
    "    return list(set(patent_cpc_groups) | set(backward_citations_cpc_groups))\n",
    "\n",
    "patent_cpc_subclass_pairs_with_atypicality[\"union_cpc_groups\"] = patent_cpc_subclass_pairs_with_atypicality.apply(get_union_cpc_groups, axis=1)\n",
    "patent_cpc_subclass_pairs_with_atypicality.head()"
   ]
  },
  {
   "cell_type": "code",
   "execution_count": 41,
   "id": "01f0dcf1",
   "metadata": {},
   "outputs": [
    {
     "data": {
      "text/html": [
       "<div>\n",
       "<style scoped>\n",
       "    .dataframe tbody tr th:only-of-type {\n",
       "        vertical-align: middle;\n",
       "    }\n",
       "\n",
       "    .dataframe tbody tr th {\n",
       "        vertical-align: top;\n",
       "    }\n",
       "\n",
       "    .dataframe thead th {\n",
       "        text-align: right;\n",
       "    }\n",
       "</style>\n",
       "<table border=\"1\" class=\"dataframe\">\n",
       "  <thead>\n",
       "    <tr style=\"text-align: right;\">\n",
       "      <th></th>\n",
       "      <th>cpc_subclass_pairs</th>\n",
       "      <th>atypicality_score</th>\n",
       "      <th>cpc_subclasses</th>\n",
       "      <th>intersect_cpc_groups</th>\n",
       "      <th>union_cpc_groups</th>\n",
       "      <th>tech_leap</th>\n",
       "    </tr>\n",
       "    <tr>\n",
       "      <th>patent_id</th>\n",
       "      <th></th>\n",
       "      <th></th>\n",
       "      <th></th>\n",
       "      <th></th>\n",
       "      <th></th>\n",
       "      <th></th>\n",
       "    </tr>\n",
       "  </thead>\n",
       "  <tbody>\n",
       "    <tr>\n",
       "      <th>10000000</th>\n",
       "      <td>[]</td>\n",
       "      <td>NaN</td>\n",
       "      <td>{G01S}</td>\n",
       "      <td>[]</td>\n",
       "      <td>[G01S7/4865, G01S17/89, Y02A90/10, G01S17/894,...</td>\n",
       "      <td>1.000000</td>\n",
       "    </tr>\n",
       "    <tr>\n",
       "      <th>10000001</th>\n",
       "      <td>[(B29C, G05B)]</td>\n",
       "      <td>8.984207</td>\n",
       "      <td>{G05B, B29C}</td>\n",
       "      <td>[B29C45/1751, B29C2945/76083, B29C45/76]</td>\n",
       "      <td>[G05B2219/45244, B29C45/83, B29C45/1751, B29C4...</td>\n",
       "      <td>0.906250</td>\n",
       "    </tr>\n",
       "    <tr>\n",
       "      <th>10000002</th>\n",
       "      <td>[(B29C, B29D), (B29C, B29K), (B29C, B29L), (B2...</td>\n",
       "      <td>8.375340</td>\n",
       "      <td>{B32B, B29L, B29K, B60C, B29C, B29D}</td>\n",
       "      <td>[B32B27/08, B32B27/34, B29C48/21]</td>\n",
       "      <td>[B32B2475/00, B32B2457/08, B32B2307/554, B29D2...</td>\n",
       "      <td>0.949153</td>\n",
       "    </tr>\n",
       "    <tr>\n",
       "      <th>10000003</th>\n",
       "      <td>[(B29C, B29D), (B29C, B29K), (B29C, B29L), (B2...</td>\n",
       "      <td>6.990229</td>\n",
       "      <td>{B29K, B29L, B29D, B29C}</td>\n",
       "      <td>[B29C49/20, B29L2031/7172, B29C2049/4881, B29C...</td>\n",
       "      <td>[B29C2791/006, B29C51/267, B29C49/0691, B29L20...</td>\n",
       "      <td>0.818182</td>\n",
       "    </tr>\n",
       "    <tr>\n",
       "      <th>10000004</th>\n",
       "      <td>[(B29C, B29K), (B29C, B29L), (B29K, B29L)]</td>\n",
       "      <td>6.239670</td>\n",
       "      <td>{B29K, B29L, B29C}</td>\n",
       "      <td>[B29C51/14]</td>\n",
       "      <td>[B32B2369/00, B65B31/04, B32B27/32, B65D75/580...</td>\n",
       "      <td>0.980769</td>\n",
       "    </tr>\n",
       "    <tr>\n",
       "      <th>10000005</th>\n",
       "      <td>[(B29C, Y10T)]</td>\n",
       "      <td>6.483157</td>\n",
       "      <td>{Y10T, B29C}</td>\n",
       "      <td>[B29C51/082, B29C51/04, B29C51/262]</td>\n",
       "      <td>[B29C2791/006, Y10S425/053, B29C51/10, B29C51/...</td>\n",
       "      <td>0.750000</td>\n",
       "    </tr>\n",
       "    <tr>\n",
       "      <th>10000006</th>\n",
       "      <td>[(B29C, B29K), (B29C, B29L), (B29C, B60R), (B2...</td>\n",
       "      <td>7.613158</td>\n",
       "      <td>{B29L, B60R, B29K, B29C, Y10T}</td>\n",
       "      <td>[]</td>\n",
       "      <td>{B29C2791/006, B60R13/02, B29L2031/3041, B29K2...</td>\n",
       "      <td>1.000000</td>\n",
       "    </tr>\n",
       "    <tr>\n",
       "      <th>10000007</th>\n",
       "      <td>[(B29C, B29K), (B29C, B29L), (B29K, B29L)]</td>\n",
       "      <td>6.239670</td>\n",
       "      <td>{B29K, B29L, B29C}</td>\n",
       "      <td>[B29C57/04, B29K2023/0691, B29L2023/22]</td>\n",
       "      <td>[B26D5/12, Y10T29/49998, F15B2211/3059, F15B22...</td>\n",
       "      <td>0.968085</td>\n",
       "    </tr>\n",
       "    <tr>\n",
       "      <th>10000008</th>\n",
       "      <td>[(A44C, B29C), (A44C, B29K), (A44C, B29L), (B2...</td>\n",
       "      <td>9.454074</td>\n",
       "      <td>{B29K, B29L, A44C, B29C}</td>\n",
       "      <td>[]</td>\n",
       "      <td>[B29C33/405, B44C5/0446, Y10S264/55, Y10S425/0...</td>\n",
       "      <td>1.000000</td>\n",
       "    </tr>\n",
       "    <tr>\n",
       "      <th>10000009</th>\n",
       "      <td>[(B29C, B29L)]</td>\n",
       "      <td>5.978974</td>\n",
       "      <td>{B29L, B29C}</td>\n",
       "      <td>[B29C64/106, B29C64/112]</td>\n",
       "      <td>[B29C64/255, B29C64/165, Y02P80/40, B29C2791/0...</td>\n",
       "      <td>0.923077</td>\n",
       "    </tr>\n",
       "  </tbody>\n",
       "</table>\n",
       "</div>"
      ],
      "text/plain": [
       "                                          cpc_subclass_pairs  \\\n",
       "patent_id                                                      \n",
       "10000000                                                  []   \n",
       "10000001                                      [(B29C, G05B)]   \n",
       "10000002   [(B29C, B29D), (B29C, B29K), (B29C, B29L), (B2...   \n",
       "10000003   [(B29C, B29D), (B29C, B29K), (B29C, B29L), (B2...   \n",
       "10000004          [(B29C, B29K), (B29C, B29L), (B29K, B29L)]   \n",
       "10000005                                      [(B29C, Y10T)]   \n",
       "10000006   [(B29C, B29K), (B29C, B29L), (B29C, B60R), (B2...   \n",
       "10000007          [(B29C, B29K), (B29C, B29L), (B29K, B29L)]   \n",
       "10000008   [(A44C, B29C), (A44C, B29K), (A44C, B29L), (B2...   \n",
       "10000009                                      [(B29C, B29L)]   \n",
       "\n",
       "           atypicality_score                        cpc_subclasses  \\\n",
       "patent_id                                                            \n",
       "10000000                 NaN                                {G01S}   \n",
       "10000001            8.984207                          {G05B, B29C}   \n",
       "10000002            8.375340  {B32B, B29L, B29K, B60C, B29C, B29D}   \n",
       "10000003            6.990229              {B29K, B29L, B29D, B29C}   \n",
       "10000004            6.239670                    {B29K, B29L, B29C}   \n",
       "10000005            6.483157                          {Y10T, B29C}   \n",
       "10000006            7.613158        {B29L, B60R, B29K, B29C, Y10T}   \n",
       "10000007            6.239670                    {B29K, B29L, B29C}   \n",
       "10000008            9.454074              {B29K, B29L, A44C, B29C}   \n",
       "10000009            5.978974                          {B29L, B29C}   \n",
       "\n",
       "                                        intersect_cpc_groups  \\\n",
       "patent_id                                                      \n",
       "10000000                                                  []   \n",
       "10000001            [B29C45/1751, B29C2945/76083, B29C45/76]   \n",
       "10000002                   [B32B27/08, B32B27/34, B29C48/21]   \n",
       "10000003   [B29C49/20, B29L2031/7172, B29C2049/4881, B29C...   \n",
       "10000004                                         [B29C51/14]   \n",
       "10000005                 [B29C51/082, B29C51/04, B29C51/262]   \n",
       "10000006                                                  []   \n",
       "10000007             [B29C57/04, B29K2023/0691, B29L2023/22]   \n",
       "10000008                                                  []   \n",
       "10000009                            [B29C64/106, B29C64/112]   \n",
       "\n",
       "                                            union_cpc_groups  tech_leap  \n",
       "patent_id                                                                \n",
       "10000000   [G01S7/4865, G01S17/89, Y02A90/10, G01S17/894,...   1.000000  \n",
       "10000001   [G05B2219/45244, B29C45/83, B29C45/1751, B29C4...   0.906250  \n",
       "10000002   [B32B2475/00, B32B2457/08, B32B2307/554, B29D2...   0.949153  \n",
       "10000003   [B29C2791/006, B29C51/267, B29C49/0691, B29L20...   0.818182  \n",
       "10000004   [B32B2369/00, B65B31/04, B32B27/32, B65D75/580...   0.980769  \n",
       "10000005   [B29C2791/006, Y10S425/053, B29C51/10, B29C51/...   0.750000  \n",
       "10000006   {B29C2791/006, B60R13/02, B29L2031/3041, B29K2...   1.000000  \n",
       "10000007   [B26D5/12, Y10T29/49998, F15B2211/3059, F15B22...   0.968085  \n",
       "10000008   [B29C33/405, B44C5/0446, Y10S264/55, Y10S425/0...   1.000000  \n",
       "10000009   [B29C64/255, B29C64/165, Y02P80/40, B29C2791/0...   0.923077  "
      ]
     },
     "execution_count": 41,
     "metadata": {},
     "output_type": "execute_result"
    }
   ],
   "source": [
    "# 5. Calculate the Technological Leap Score\n",
    "# Technological Leap Score = 1 - (Jaccard Similarity)\n",
    "def calculate_tech_leap_score(patent):\n",
    "    # If a patent and all its backward citations have cite no CPC groups, it is incomparable.\n",
    "    if not patent[\"union_cpc_groups\"]:\n",
    "        return np.nan\n",
    "    # If a patent has no CPC subclasses in common with its backward citations, it has maximum technological leap.\n",
    "    elif not patent[\"intersect_cpc_groups\"]:\n",
    "        return 1.0\n",
    "    else:\n",
    "        return 1 - (len(patent[\"intersect_cpc_groups\"]) / len(patent[\"union_cpc_groups\"]))\n",
    "patent_cpc_subclass_pairs_with_atypicality[\"tech_leap\"] = patent_cpc_subclass_pairs_with_atypicality.apply(calculate_tech_leap_score, axis=1)\n",
    "patent_cpc_subclass_pairs_with_atypicality.head(10)"
   ]
  },
  {
   "cell_type": "code",
   "execution_count": 42,
   "id": "5d0480df",
   "metadata": {},
   "outputs": [],
   "source": [
    "# 6. Save the final DataFrame to a CSV file\n",
    "patent_cpc_subclass_pairs_with_atypicality.to_csv(\"./data/patents_with_atypicality_and_tech_leap.csv\")"
   ]
  },
  {
   "cell_type": "code",
   "execution_count": 43,
   "id": "41fb6753",
   "metadata": {},
   "outputs": [
    {
     "data": {
      "text/plain": [
       "count    6.744779e+06\n",
       "mean     9.048763e-01\n",
       "std      1.475424e-01\n",
       "min      0.000000e+00\n",
       "25%      8.750000e-01\n",
       "50%      9.507389e-01\n",
       "75%      1.000000e+00\n",
       "max      1.000000e+00\n",
       "Name: tech_leap, dtype: float64"
      ]
     },
     "execution_count": 43,
     "metadata": {},
     "output_type": "execute_result"
    }
   ],
   "source": [
    "patent_cpc_subclass_pairs_with_atypicality[\"tech_leap\"].describe()"
   ]
  },
  {
   "cell_type": "markdown",
   "id": "7f55667c",
   "metadata": {},
   "source": [
    "## Technological Leap Score summary statistics\n",
    "| Technological Leap Score Statistic | Value     |\n",
    "|-----------------------------------|-----------|\n",
    "| Number of non-null values         | 6,744,779 |\n",
    "| Number of null values             | 763,040 |\n",
    "| Total Count                       | 7,507,819 |\n",
    "| Mean                              | 0.9049   |\n",
    "| Standard Deviation                | 0.1475    |\n",
    "| Min                               | 0.0000    |\n",
    "| Max                               | 1.0000    |\n",
    "| 25th-percentile                   | 0.8750    |\n",
    "| 50th-percentile                   | 0.9507    |\n",
    "| 75th-percentile                   | 1    |"
   ]
  },
  {
   "cell_type": "code",
   "execution_count": 44,
   "id": "afa42325",
   "metadata": {},
   "outputs": [
    {
     "name": "stdout",
     "output_type": "stream",
     "text": [
      "All patents with NaN technological leap scores have no CPC groups.\n"
     ]
    }
   ],
   "source": [
    "# 7. Validate that all the patents with NaN technological leap scores are indeed patents\n",
    "# that cite no CPC groups and have no backward citations or its backward citations have no CPC groups\n",
    "assert patent_cpc_subclass_pairs_with_atypicality[patent_cpc_subclass_pairs_with_atypicality[\"tech_leap\"].isna()][\"union_cpc_groups\"].apply(lambda x: len(x) == 0).all(), \"There are patents with NaN technological leap scores that have CPC groups.\"\n",
    "print(\"All patents with NaN technological leap scores have no CPC groups.\")"
   ]
  },
  {
   "cell_type": "code",
   "execution_count": 48,
   "id": "a81a6e86",
   "metadata": {},
   "outputs": [
    {
     "name": "stdout",
     "output_type": "stream",
     "text": [
      "All technological leap scores are between 0 and 1.\n"
     ]
    }
   ],
   "source": [
    "# 8. Validate that all technological leap scores are between 0 and 1\n",
    "assert patent_cpc_subclass_pairs_with_atypicality[\"tech_leap\"].dropna().between(0.0, 1.0, inclusive=\"both\").all(), \"There are technological leap scores outside the range [0, 1].\"\n",
    "print(\"All technological leap scores are between 0 and 1.\")"
   ]
  },
  {
   "cell_type": "code",
   "execution_count": 51,
   "id": "11433147",
   "metadata": {},
   "outputs": [
    {
     "name": "stdout",
     "output_type": "stream",
     "text": [
      "All manual checks for technological leap scores passed successfully.\n"
     ]
    }
   ],
   "source": [
    "# 9. Random spot check: Validate that the technological leap score for a random patent matches the expected value\n",
    "import random\n",
    "def manual_tech_leap(patent_id):\n",
    "    backward_citations = citations_dict.get(patent_id, [])\n",
    "    patent_cpc_groups = cpc_groups_dict.get(patent_id, {})\n",
    "    backward_citations_cpc_groups = []\n",
    "    if backward_citations:\n",
    "        for citation in backward_citations:\n",
    "            citation_cpc_groups = cpc_groups_dict.get(citation, {})\n",
    "            if not citation_cpc_groups or (isinstance(citation_cpc_groups, float) and np.isnan(citation_cpc_groups)):\n",
    "                continue\n",
    "            if citation_cpc_groups:\n",
    "                backward_citations_cpc_groups.extend(citation_cpc_groups)\n",
    "    if not patent_cpc_groups or (isinstance(patent_cpc_groups, float) and np.isnan(patent_cpc_groups)):\n",
    "        return np.nan\n",
    "    if not backward_citations_cpc_groups:\n",
    "        return 1.0\n",
    "    union_cpc_groups = list(set(patent_cpc_groups) | set(backward_citations_cpc_groups))\n",
    "    intersect_cpc_groups = list(set(patent_cpc_groups) & set(backward_citations_cpc_groups))\n",
    "    if not union_cpc_groups:\n",
    "        return np.nan\n",
    "    if not intersect_cpc_groups:\n",
    "        return 1.0\n",
    "    else:\n",
    "        return 1 - (len(intersect_cpc_groups) / len(union_cpc_groups))\n",
    "\n",
    "samples = random.sample(patent_cpc_subclass_pairs_with_atypicality.index.tolist(), 10000)\n",
    "for sample in samples:\n",
    "    expected_score = manual_tech_leap(sample)\n",
    "    actual_score = patent_cpc_subclass_pairs_with_atypicality.loc[sample, \"tech_leap\"]\n",
    "    assert np.isclose(expected_score, actual_score, equal_nan=True), f\"Expected {expected_score}, but got {actual_score} for patent {sample}.\"\n",
    "print(\"All manual checks for technological leap scores passed successfully.\")"
   ]
  },
  {
   "cell_type": "code",
   "execution_count": 52,
   "id": "d007d525",
   "metadata": {},
   "outputs": [
    {
     "name": "stdout",
     "output_type": "stream",
     "text": [
      "Number of patents in the output dataset matches the number of patents in the input dataset.\n"
     ]
    }
   ],
   "source": [
    "# 10. Validate that the output dataset contains the expected number of patents\n",
    "num_patents_in_output = patent_cpc_subclass_pairs_with_atypicality.shape[0]\n",
    "assert num_patents_in_output == num_patents, f\"Number of patents in the output dataset ({num_patents_in_output}) does not match the number of patents in the input dataset ({num_patents}).\"\n",
    "print(\"Number of patents in the output dataset matches the number of patents in the input dataset.\")"
   ]
  },
  {
   "cell_type": "code",
   "execution_count": null,
   "id": "de760c25",
   "metadata": {},
   "outputs": [],
   "source": []
  }
 ],
 "metadata": {
  "kernelspec": {
   "display_name": "base",
   "language": "python",
   "name": "python3"
  },
  "language_info": {
   "codemirror_mode": {
    "name": "ipython",
    "version": 3
   },
   "file_extension": ".py",
   "mimetype": "text/x-python",
   "name": "python",
   "nbconvert_exporter": "python",
   "pygments_lexer": "ipython3",
   "version": "3.12.8"
  }
 },
 "nbformat": 4,
 "nbformat_minor": 5
}

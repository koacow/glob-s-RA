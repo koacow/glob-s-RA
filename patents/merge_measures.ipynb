{
 "cells": [
  {
   "cell_type": "code",
   "execution_count": null,
   "id": "3ddb1636",
   "metadata": {},
   "outputs": [],
   "source": [
    "import pandas as pd\n",
    "\n",
    "atypicality = pd.read_csv(\"./data/patents_atypicality_and_tech_leap.csv\", dtype={\n",
    "    \"patent_id\": str,\n",
    "    \"atypicality_score\": float,\n",
    "    \"tech_leap\": float,\n",
    "    })"
   ]
  }
 ],
 "metadata": {
  "kernelspec": {
   "display_name": "base",
   "language": "python",
   "name": "python3"
  },
  "language_info": {
   "name": "python",
   "version": "3.12.8"
  }
 },
 "nbformat": 4,
 "nbformat_minor": 5
}

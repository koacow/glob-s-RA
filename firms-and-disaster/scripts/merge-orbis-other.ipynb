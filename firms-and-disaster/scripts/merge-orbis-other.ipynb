{
 "cells": [
  {
   "cell_type": "markdown",
   "id": "0a133ddc",
   "metadata": {},
   "source": [
    "# Merging Orbis Miscellaneous Datasets\n",
    "\n",
    "## This notebook merges the Orbis miscellaneous datasets (Industry, Legal, Location data, ownership, etc.) into a single dataset.\n",
    "\n",
    "## Technical Notes:\n",
    "\n",
    "- This notebook uses `dask` instead of `pandas` to handle large datasets that do not fit into memory. \n",
    "\n",
    "## How to use:\n",
    "\n",
    "- Make sure you have the required libraries installed. You can install them using pip:\n",
    "```bash\n",
    "pip install \"dask[complete]\"\n",
    "```\n",
    "\n",
    "- Change the `dataset_dir` variable to point to the directory where your Orbis datasets are stored.\n",
    "\n",
    "- Change the `out_dir` variable to point to the directory where you want to save the merged dataset.\n",
    "\n",
    "- Run the notebook. The merged dataset will be saved as a CSV file in the specified output directory.\n",
    "\n",
    "\n"
   ]
  },
  {
   "cell_type": "code",
   "execution_count": 4,
   "id": "08713e58",
   "metadata": {},
   "outputs": [],
   "source": [
    "import dask.dataframe as dd\n",
    "import pandas as pd\n",
    "import os"
   ]
  },
  {
   "cell_type": "code",
   "execution_count": 5,
   "id": "d828d75f",
   "metadata": {},
   "outputs": [
    {
     "name": "stdout",
     "output_type": "stream",
     "text": [
      "Location_data.xlsx\n",
      "Index(['Company name Latin alphabet', 'Orbis ID number', 'Address Line 1',\n",
      "       'Latitude', 'Longitude', 'BvD ID number', 'City', 'Country ISO code',\n",
      "       'Full Address'],\n",
      "      dtype='object')\n",
      "Ownership_combined_Part_1.xlsx\n",
      "Index(['Unnamed: 0', 'Company name Latin alphabet', 'BvD ID number',\n",
      "       'Orbis ID number', 'Ticker symbol',\n",
      "       'No of companies in corporate group', 'Entity type',\n",
      "       'ISH - BvD ID number', 'ISH - Orbis ID number'],\n",
      "      dtype='object')\n",
      "Ownership_combined_Part_3.xlsx\n",
      "Index(['Unnamed: 0', 'Company name Latin alphabet', 'BvD ID number',\n",
      "       'Orbis ID number', 'GUO - US SIC, Core code', 'GUO - Direct %',\n",
      "       'GUO - Total %', 'GUO - Operating revenue (Turnover)\\nm USD',\n",
      "       'GUO - Ticker symbol', 'GUO - Total assets\\nm USD',\n",
      "       'GUO - Number of employees'],\n",
      "      dtype='object')\n",
      "Ownership_combined_Part_2.xlsx\n",
      "Index(['Unnamed: 0', 'Company name Latin alphabet', 'BvD ID number',\n",
      "       'Orbis ID number', 'GUO - Name', 'GUO - BvD ID number',\n",
      "       'GUO - Orbis ID number', 'GUO - Ticker symbol',\n",
      "       'GUO - Country ISO code', 'GUO - City', 'GUO - Type'],\n",
      "      dtype='object')\n",
      "Industries&Activities_Final_Dataset.xlsx\n",
      "Index(['Unnamed: 0', 'Company name Latin alphabet', 'BvD ID number',\n",
      "       'Orbis ID number', 'Ticker symbol',\n",
      "       'Primary code(s) in national industry classification',\n",
      "       'US SIC, core code (3 digits)', 'BvD sectors', 'Peer Group Name',\n",
      "       'Peer Group Size', 'Main customers'],\n",
      "      dtype='object')\n",
      "Ownership_combined_Part_5.xlsx\n",
      "Index(['Unnamed: 0', 'Company name Latin alphabet', 'BvD ID number',\n",
      "       'Orbis ID number', 'HQ - HeadquartersName',\n",
      "       'HQ - HeadquartersBvD ID number', 'HQ - HeadquartersOrbis ID number',\n",
      "       'HQ - HeadquartersCity', 'HQ - HeadquartersUS SIC, Core code',\n",
      "       'HQ - HeadquartersCountry ISO code'],\n",
      "      dtype='object')\n",
      "legal_combined_new.xlsx\n",
      "Index(['Unnamed: 0', 'Company name Latin alphabet', 'BvD ID number',\n",
      "       'Orbis ID number', 'Status', 'Status date', 'Status updated date',\n",
      "       'Date of incorporation'],\n",
      "      dtype='object')\n",
      "Ownership_combined_Part_4.xlsx\n",
      "Index(['Unnamed: 0.1', 'Unnamed: 0', 'Company name Latin alphabet',\n",
      "       'BvD ID number', 'Orbis ID number', 'DUO - Name', 'DUO - BvD ID number',\n",
      "       'DUO - Orbis ID number', 'DUO - Country ISO code', 'DUO - City',\n",
      "       'DUO - Type', 'DUO - US SIC, Core code', 'DUO - Direct %',\n",
      "       'DUO - Total %', 'DUO - Operating revenue (Turnover)\\nm USD',\n",
      "       'DUO - Total assets\\nm USD', 'DUO - Number of employees',\n",
      "       'No of subsidiaries', 'Number of publications'],\n",
      "      dtype='object')\n"
     ]
    }
   ],
   "source": [
    "script_dir = os.path.dirname(os.path.abspath(os.getcwd()))\n",
    "dataset_dir = os.path.join(script_dir, \"unmerged-datasets/orbis-other\")\n",
    "\n",
    "dfs = []\n",
    "\n",
    "for filename in os.listdir(dataset_dir):\n",
    "    if filename.endswith('.xlsx'):\n",
    "        df = pd.read_excel(os.path.join(dataset_dir, filename))\n",
    "        df = dd.from_pandas(df, npartitions=1)\n",
    "        print(filename)\n",
    "        print(df.columns)\n",
    "        dfs.append(df)\n",
    "\n"
   ]
  },
  {
   "cell_type": "code",
   "execution_count": null,
   "id": "f980b203",
   "metadata": {},
   "outputs": [],
   "source": [
    "index_cols = [\"Orbis ID number\", \"BvD ID number\"]\n",
    "\n",
    "merged_df = None\n",
    "\n",
    "for df in dfs:\n",
    "    for col in index_cols:\n",
    "        if col not in df.columns:\n",
    "            print(f\"Column '{col}' not found in {df.columns}\")\n",
    "            break\n",
    "        else:\n",
    "            df[col] = df[col].astype(str)\n",
    "            df[col] = df[col].str.upper()\n",
    "        \n",
    "for df in dfs:\n",
    "    if merged_df is None:\n",
    "        merged_df = df\n",
    "    else:\n",
    "        merged_df = dd.merge(merged_df, df, on=index_cols, how='outer', suffixes=('', '_y'))\n",
    "        merged_df = merged_df.drop([col for col in merged_df.columns if col.endswith('_y')], axis=1)\n",
    "\n",
    "print(merged_df.columns)\n",
    "print(\"Number of columns in merged dataframe:\", len(merged_df.columns)) \n",
    "print(\"Number of rows in merged dataframe:\", merged_df.shape[0].compute())\n"
   ]
  }
 ],
 "metadata": {
  "kernelspec": {
   "display_name": "base",
   "language": "python",
   "name": "python3"
  },
  "language_info": {
   "codemirror_mode": {
    "name": "ipython",
    "version": 3
   },
   "file_extension": ".py",
   "mimetype": "text/x-python",
   "name": "python",
   "nbconvert_exporter": "python",
   "pygments_lexer": "ipython3",
   "version": "3.12.8"
  }
 },
 "nbformat": 4,
 "nbformat_minor": 5
}

{
 "cells": [
  {
   "cell_type": "markdown",
   "id": "c46ddddf",
   "metadata": {},
   "source": [
    "# Merging Orbis Financial Data\n",
    "\n",
    "## This notebook merges the Orbis financial datasets (balance sheets, global ratios, and other key variables) into a single dataset. \n",
    "\n",
    "## Technical Notes:\n",
    "\n",
    "- This notebook uses `dask` instead of `pandas` to handle large datasets that do not fit into memory. \n",
    "\n",
    "## How to use:\n",
    "\n",
    "- Make sure you have the required libraries installed. You can install them using pip:\n",
    "```bash\n",
    "pip install \"dask[complete]\"\n",
    "```\n",
    "\n",
    "- Change the `dataset_dir` variable to point to the directory where your Orbis datasets are stored.\n",
    "\n",
    "- Change the `out_dir` variable to point to the directory where you want to save the merged dataset.\n",
    "\n",
    "- Run the notebook. The merged dataset will be saved as a CSV file in the specified output directory.\n",
    "\n",
    "\n"
   ]
  },
  {
   "cell_type": "code",
   "execution_count": 12,
   "id": "47a3fa2d",
   "metadata": {},
   "outputs": [],
   "source": [
    "import dask.dataframe as dd\n",
    "import os\n"
   ]
  },
  {
   "cell_type": "code",
   "execution_count": 13,
   "id": "1909a2e8",
   "metadata": {},
   "outputs": [
    {
     "name": "stdout",
     "output_type": "stream",
     "text": [
      "Balance Sheet Columns:\n",
      "Index(['Company name Latin alphabet', 'BvD ID number', 'Year',\n",
      "       'Current_Assets_USD', 'EBIT_USD', 'Non_Current_Assets_USD',\n",
      "       'Financial_Expenses_USD', 'Financial_Profit_Loss_USD',\n",
      "       'Financial_Revenue_USD', 'Gross_Profit_USD', 'Intangible_Assets_USD',\n",
      "       'Operating_Income_USD', 'Profit_After_Tax_m_USD', 'PBT_USD',\n",
      "       'Profit_Loss_After_Tax_USD', 'Profit_Loss_Before_Tax_USD',\n",
      "       'Tangible_Fixed_Assets_USD', 'Total_Assets_USD',\n",
      "       'Total_Operating_Expenses_USD', 'Orbis ID number'],\n",
      "      dtype='object')\n",
      "Global Ratios Columns:\n",
      "Index(['Unnamed: 0', 'Company name Latin alphabet', 'BvD ID number',\n",
      "       'Orbis ID number', 'Year', 'Operating Revenue per Employee',\n",
      "       'Operating Revenue per Employee (Alt)',\n",
      "       'Operating Revenue per Employee (Alt2)', 'Profit per Employee',\n",
      "       'Shareholders Funds per Employee', 'Total Assets per Employee',\n",
      "       'Working Capital per Employee'],\n",
      "      dtype='object')\n",
      "Key Variables Columns:\n",
      "Index(['Company name Latin alphabet', 'BvD ID number', 'Orbis ID number',\n",
      "       'Year', 'Current ratio', 'Number of employees', 'Profit margin',\n",
      "       'ROCE using P/L before tax', 'ROE using P/L before tax',\n",
      "       'Solvency ratio (Asset based)', 'm USD '],\n",
      "      dtype='object')\n"
     ]
    }
   ],
   "source": [
    "# Some common missing value indicators in the dataset\n",
    "na_values = [\"none\", \"n.a.\", \"n.a\", \"n.s.\", \"n.s\", \"N/A\", \"N/A\", \"N.A.\", \"N.A\", \"NaN\", \"nan\", \"NA\", \"na\", \"\", \" \", \"-\", \"--\"]\n",
    "\n",
    "# Define all columns to be read as strings to avoid issues with mixed types\n",
    "dtypes = {\n",
    "    \"BvD ID number\": \"object\",\n",
    "    \"Year\": \"int64\",\n",
    "    \"Orbis ID number\": \"object\",\n",
    "    'Operating Revenue per Employee': 'object',\n",
    "    'Operating Revenue per Employee (Alt)': 'object',\n",
    "    'Operating Revenue per Employee (Alt2)': 'object',\n",
    "    'Profit per Employee': 'object',\n",
    "    'Shareholders Funds per Employee': 'object',\n",
    "    'Total Assets per Employee': 'object',\n",
    "    'Working Capital per Employee': 'object'\n",
    "}\n",
    "\n",
    "# Define the directory where the datasets are located\n",
    "script_dir = os.path.dirname(os.path.abspath(os.getcwd()))\n",
    "dataset_dir = os.path.join(script_dir, \"unmerged-datasets/orbis-financial\")\n",
    "\n",
    "# Read the datasets using Dask\n",
    "balance_sheet = dd.read_csv(os.path.join(dataset_dir, \"financial_balance_sheet_assets_profit_loss.csv\"), na_values=na_values, dtype=dtypes)\n",
    "global_ratios = dd.read_csv(os.path.join(dataset_dir, \"financial_global_ratios.csv\"), na_values=na_values, dtype=dtypes)\n",
    "key_vars = dd.read_csv(os.path.join(dataset_dir, \"financial_key_variables.csv\"), na_values=na_values, dtype=dtypes)\n",
    "\n",
    "print(\"Balance Sheet Columns:\")\n",
    "print(balance_sheet.columns)\n",
    "print(\"Global Ratios Columns:\")\n",
    "print(global_ratios.columns)\n",
    "print(\"Key Variables Columns:\")\n",
    "print(key_vars.columns)\n"
   ]
  },
  {
   "cell_type": "code",
   "execution_count": 14,
   "id": "e4cd1394",
   "metadata": {},
   "outputs": [
    {
     "name": "stdout",
     "output_type": "stream",
     "text": [
      "Dropping rows with null values in columns: ['BvD ID number', 'Orbis ID number', 'Year']\n",
      "Dropped 0 rows with null values from balance sheet\n",
      "Dropped 0 rows with null values from global ratios\n",
      "Dropped 0 rows with null values from key variables\n",
      "Balance Sheet: 19212750 rows, 20 columns\n",
      "Global Ratios: 19257690 rows, 12 columns\n",
      "Key Variables: 16465729 rows, 11 columns\n"
     ]
    }
   ],
   "source": [
    "# These columns are the unique identifiers for each observation\n",
    "# and are used to merge the datasets later\n",
    "index_cols = [\"BvD ID number\", \"Orbis ID number\", \"Year\"]\n",
    "\n",
    "print(\"Dropping rows with null values in columns:\", index_cols)\n",
    "\n",
    "num_rows_balance_sheet = balance_sheet.shape[0].compute()\n",
    "num_rows_global_ratios = global_ratios.shape[0].compute()\n",
    "num_rows_key_vars = key_vars.shape[0].compute()\n",
    "\n",
    "# Drop rows with null values in all index columns\n",
    "# This is done to ensure that we only keep rows that have complete information\n",
    "# across all datasets\n",
    "balance_sheet = balance_sheet.dropna(subset=index_cols, how=\"all\")\n",
    "global_ratios = global_ratios.dropna(subset=index_cols, how=\"all\")\n",
    "key_vars = key_vars.dropna(subset=index_cols, how=\"all\")\n",
    "\n",
    "balance_sheet_shape = balance_sheet.shape\n",
    "global_ratios_shape = global_ratios.shape\n",
    "key_vars_shape = key_vars.shape\n",
    "\n",
    "num_rows_balance_sheet_after = balance_sheet_shape[0].compute()\n",
    "num_rows_global_ratios_after = global_ratios_shape[0].compute()\n",
    "num_rows_key_vars_after = key_vars_shape[0].compute()\n",
    "\n",
    "num_cols_balance_sheet = balance_sheet_shape[1]\n",
    "num_cols_global_ratios = global_ratios_shape[1]\n",
    "num_cols_key_vars = key_vars_shape[1]\n",
    "\n",
    "print(f\"Dropped {num_rows_balance_sheet - num_rows_balance_sheet_after} rows with null values from balance sheet\")\n",
    "print(f\"Dropped {num_rows_global_ratios - num_rows_global_ratios_after} rows with null values from global ratios\")\n",
    "print(f\"Dropped {num_rows_key_vars - num_rows_key_vars_after} rows with null values from key variables\")\n",
    "\n",
    "print(f\"Balance Sheet: {num_rows_balance_sheet_after} rows, {num_cols_balance_sheet} columns\")\n",
    "print(f\"Global Ratios: {num_rows_global_ratios_after} rows, {num_cols_global_ratios} columns\")\n",
    "print(f\"Key Variables: {num_rows_key_vars_after} rows, {num_cols_key_vars} columns\")"
   ]
  },
  {
   "cell_type": "code",
   "execution_count": 15,
   "id": "f08ef951",
   "metadata": {},
   "outputs": [
    {
     "name": "stdout",
     "output_type": "stream",
     "text": [
      "Expected number of columns in merged dataset:\n",
      "37\n"
     ]
    }
   ],
   "source": [
    "print(\"Expected number of columns in merged dataset:\")\n",
    "expected_cols = num_cols_balance_sheet + num_cols_global_ratios + num_cols_key_vars - len(index_cols) * 2\n",
    "print(expected_cols)"
   ]
  },
  {
   "cell_type": "code",
   "execution_count": 16,
   "id": "6aa5e1c1",
   "metadata": {},
   "outputs": [],
   "source": [
    "balance_sheet[\"BvD ID number\"] = balance_sheet[\"BvD ID number\"].str.upper()\n",
    "global_ratios[\"BvD ID number\"] = global_ratios[\"BvD ID number\"].str.upper()\n",
    "key_vars[\"BvD ID number\"] = key_vars[\"BvD ID number\"].str.upper()\n",
    "\n",
    "balance_sheet[\"Orbis ID number\"] = balance_sheet[\"Orbis ID number\"].str.upper()\n",
    "global_ratios[\"Orbis ID number\"] = global_ratios[\"Orbis ID number\"].str.upper()\n",
    "key_vars[\"Orbis ID number\"] = key_vars[\"Orbis ID number\"].str.upper()"
   ]
  },
  {
   "cell_type": "code",
   "execution_count": 17,
   "id": "db4e13e9",
   "metadata": {},
   "outputs": [],
   "source": [
    "# Merge the datasets on the index columns\n",
    "# The merge is done using an outer join to ensure that we keep all rows\n",
    "merged_financial_data = balance_sheet.merge(global_ratios, on=[\"BvD ID number\", \"Orbis ID number\", \"Year\"], how=\"outer\")\n",
    "merged_financial_data = merged_financial_data.merge(key_vars, on=[\"BvD ID number\", \"Orbis ID number\", \"Year\"], how=\"outer\")"
   ]
  },
  {
   "cell_type": "code",
   "execution_count": 18,
   "id": "8426e210",
   "metadata": {},
   "outputs": [
    {
     "name": "stdout",
     "output_type": "stream",
     "text": [
      "Merged financial data columns:\n",
      "Index(['Company name Latin alphabet_x', 'BvD ID number', 'Year',\n",
      "       'Current_Assets_USD', 'EBIT_USD', 'Non_Current_Assets_USD',\n",
      "       'Financial_Expenses_USD', 'Financial_Profit_Loss_USD',\n",
      "       'Financial_Revenue_USD', 'Gross_Profit_USD', 'Intangible_Assets_USD',\n",
      "       'Operating_Income_USD', 'Profit_After_Tax_m_USD', 'PBT_USD',\n",
      "       'Profit_Loss_After_Tax_USD', 'Profit_Loss_Before_Tax_USD',\n",
      "       'Tangible_Fixed_Assets_USD', 'Total_Assets_USD',\n",
      "       'Total_Operating_Expenses_USD', 'Orbis ID number', 'Unnamed: 0',\n",
      "       'Company name Latin alphabet_y', 'Operating Revenue per Employee',\n",
      "       'Operating Revenue per Employee (Alt)',\n",
      "       'Operating Revenue per Employee (Alt2)', 'Profit per Employee',\n",
      "       'Shareholders Funds per Employee', 'Total Assets per Employee',\n",
      "       'Working Capital per Employee', 'Company name Latin alphabet',\n",
      "       'Current ratio', 'Number of employees', 'Profit margin',\n",
      "       'ROCE using P/L before tax', 'ROE using P/L before tax',\n",
      "       'Solvency ratio (Asset based)', 'm USD '],\n",
      "      dtype='object')\n",
      "Number of rows in merged dataset: 39805712\n",
      "Did get expected number of columns in merged dataset:\n",
      "True\n",
      "    Company name Latin alphabet_x    BvD ID number  Year  Current_Assets_USD  \\\n",
      "0                            <NA>  AD*110000807641  2012                 NaN   \n",
      "1  Group Technic Informatic - GTI  AD*110000807641  2013                 NaN   \n",
      "2       Adecco Recursos Humans SA  AD*110143298594  2003                 NaN   \n",
      "3                            <NA>  AD*110166485610  2007                 NaN   \n",
      "4      Bakery Donuts Pirineus SLU  AD*110166485610  2006                 NaN   \n",
      "\n",
      "   EBIT_USD  Non_Current_Assets_USD  Financial_Expenses_USD  \\\n",
      "0       NaN                     NaN                     NaN   \n",
      "1       NaN                     NaN                     NaN   \n",
      "2       NaN                     NaN                     NaN   \n",
      "3       NaN                     NaN                     NaN   \n",
      "4       NaN                     NaN                     NaN   \n",
      "\n",
      "   Financial_Profit_Loss_USD  Financial_Revenue_USD  Gross_Profit_USD  ...  \\\n",
      "0                        NaN                    NaN               NaN  ...   \n",
      "1                        NaN                    NaN               NaN  ...   \n",
      "2                        NaN                    NaN               NaN  ...   \n",
      "3                        NaN                    NaN               NaN  ...   \n",
      "4                        NaN                    NaN               NaN  ...   \n",
      "\n",
      "   Total Assets per Employee  Working Capital per Employee  \\\n",
      "0                       <NA>                          <NA>   \n",
      "1                       <NA>                          <NA>   \n",
      "2                       <NA>                          <NA>   \n",
      "3                       <NA>                          <NA>   \n",
      "4                       <NA>                          <NA>   \n",
      "\n",
      "      Company name Latin alphabet  Current ratio  Number of employees  \\\n",
      "0  Group Technic Informatic - GTI            NaN                  NaN   \n",
      "1                            <NA>            NaN                  NaN   \n",
      "2                            <NA>            NaN                  NaN   \n",
      "3      Bakery Donuts Pirineus SLU            NaN                  NaN   \n",
      "4                            <NA>            NaN                  NaN   \n",
      "\n",
      "   Profit margin  ROCE using P/L before tax  ROE using P/L before tax  \\\n",
      "0            NaN                        NaN                       NaN   \n",
      "1            NaN                        NaN                       NaN   \n",
      "2            NaN                        NaN                       NaN   \n",
      "3            NaN                        NaN                       NaN   \n",
      "4            NaN                        NaN                       NaN   \n",
      "\n",
      "   Solvency ratio (Asset based) m USD   \n",
      "0                           NaN    NaN  \n",
      "1                           NaN    NaN  \n",
      "2                           NaN    NaN  \n",
      "3                           NaN    NaN  \n",
      "4                           NaN    NaN  \n",
      "\n",
      "[5 rows x 37 columns]\n"
     ]
    }
   ],
   "source": [
    "print(\"Merged financial data columns:\")\n",
    "print(merged_financial_data.columns)\n",
    "\n",
    "num_rows_merged = merged_financial_data.shape[0].compute()\n",
    "print(f\"Number of rows in merged dataset: {num_rows_merged}\")\n",
    "\n",
    "# Check if the number of columns in the merged dataset is as expected\n",
    "print(\"Did get expected number of columns in merged dataset:\")\n",
    "num_cols_merged = merged_financial_data.shape[1]\n",
    "got_expected_cols = num_cols_merged == expected_cols\n",
    "if got_expected_cols:\n",
    "    print(\"True\")\n",
    "else:\n",
    "    print(\"False\")\n",
    "    print(f\"Expected: {expected_cols}, Got: {num_cols_merged}\")\n",
    "\n",
    "print(merged_financial_data.head())"
   ]
  },
  {
   "cell_type": "code",
   "execution_count": 19,
   "id": "5f6750e9",
   "metadata": {},
   "outputs": [
    {
     "name": "stdout",
     "output_type": "stream",
     "text": [
      "Number of rows in merged dataset after dropping duplicates: 39771332\n",
      "Dropped 34380 duplicate rows\n"
     ]
    }
   ],
   "source": [
    "# Drop duplicate rows based on the index columns. This is done to ensure that we only keep unique observations\n",
    "merged_financial_data_no_duplicates = merged_financial_data.drop_duplicates(subset=index_cols, keep=\"first\")\n",
    "num_rows_merged_no_duplicates = merged_financial_data_no_duplicates.shape[0].compute()\n",
    "\n",
    "print(f\"Number of rows in merged dataset after dropping duplicates: {num_rows_merged_no_duplicates}\")\n",
    "print(f\"Dropped {num_rows_merged - num_rows_merged_no_duplicates} duplicate rows\")"
   ]
  },
  {
   "cell_type": "code",
   "execution_count": 20,
   "id": "91e9006e",
   "metadata": {},
   "outputs": [
    {
     "name": "stdout",
     "output_type": "stream",
     "text": [
      "Merged dataset saved to 'merged-datasets/orbis-financial-merged.csv'\n"
     ]
    }
   ],
   "source": [
    "\n",
    "out_dir = os.path.join(script_dir, \"merged-datasets\")\n",
    "out_path = os.path.join(out_dir, \"orbis-financial-merged.csv\")\n",
    "merged_financial_data_no_duplicates.to_csv(out_path, single_file=True, index=False, na_rep=\"N/A\", lineterminator=\"\\n\")\n",
    "print(\"Merged dataset saved to 'merged-datasets/orbis-financial-merged.csv'\")"
   ]
  },
  {
   "cell_type": "code",
   "execution_count": 21,
   "id": "02e30692",
   "metadata": {},
   "outputs": [
    {
     "name": "stdout",
     "output_type": "stream",
     "text": [
      "Number of missing values in 'BvD ID number': 0\n",
      "Number of missing values in 'Orbis ID number': 2010\n",
      "Number of missing values in 'Year': 0\n"
     ]
    }
   ],
   "source": [
    "# Count the number of missing values in each index column\n",
    "for col in index_cols:\n",
    "    num_missing = merged_financial_data_no_duplicates[col].isnull().sum().compute()\n",
    "    print(f\"Number of missing values in '{col}': {num_missing}\")"
   ]
  }
 ],
 "metadata": {
  "kernelspec": {
   "display_name": "base",
   "language": "python",
   "name": "python3"
  },
  "language_info": {
   "codemirror_mode": {
    "name": "ipython",
    "version": 3
   },
   "file_extension": ".py",
   "mimetype": "text/x-python",
   "name": "python",
   "nbconvert_exporter": "python",
   "pygments_lexer": "ipython3",
   "version": "3.12.8"
  }
 },
 "nbformat": 4,
 "nbformat_minor": 5
}
